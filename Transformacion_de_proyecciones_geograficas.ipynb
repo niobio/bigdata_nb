{
 "cells": [
  {
   "cell_type": "code",
   "execution_count": null,
   "metadata": {
    "collapsed": true
   },
   "outputs": [],
   "source": [
    "import numpy as np\n",
    "import pandas as pd\n",
    "import matplotlib.pyplot as plt\n",
    "from mpl_toolkits.basemap import Basemap\n",
    "import mpl_toolkits.basemap.pyproj as pyproj\n",
    "from mpl_toolkits import basemap\n",
    "import fiona"
   ]
  },
  {
   "cell_type": "code",
   "execution_count": null,
   "metadata": {
    "collapsed": true
   },
   "outputs": [],
   "source": [
    "# Aquí definimos las proyecciones \n",
    "p1=pyproj.Proj(init=\"epsg:23031\")\n",
    "p2=pyproj.Proj(init=\"epsg:4326\")\n",
    "# Aquí realizamos las transformaciones\n",
    "x1,y1 = pyproj.transform(p1,p2,x1_utm,y1_utm)\n",
    "x2,y2 = pyproj.transform(p1,p2,x2_utm,y2_utm)\n",
    "print x1,y1\n",
    "print x2,y2"
   ]
  }
 ],
 "metadata": {
  "kernelspec": {
   "display_name": "Python 2",
   "language": "python",
   "name": "python2"
  },
  "language_info": {
   "codemirror_mode": {
    "name": "ipython",
    "version": 2
   },
   "file_extension": ".py",
   "mimetype": "text/x-python",
   "name": "python",
   "nbconvert_exporter": "python",
   "pygments_lexer": "ipython2",
   "version": "2.7.6"
  }
 },
 "nbformat": 4,
 "nbformat_minor": 0
}
