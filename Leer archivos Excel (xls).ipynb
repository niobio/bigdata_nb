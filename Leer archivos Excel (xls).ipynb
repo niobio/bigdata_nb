{
 "cells": [
  {
   "cell_type": "markdown",
   "metadata": {},
   "source": [
    "# Leer archivos Excel (xls)"
   ]
  },
  {
   "cell_type": "markdown",
   "metadata": {},
   "source": [
    "Para leer archivos de Excel (extensión `.xls`) en un elemento dataFrame de `pandas` debemos primero importar la biblioteca `pandas`:"
   ]
  },
  {
   "cell_type": "code",
   "execution_count": 3,
   "metadata": {
    "collapsed": false
   },
   "outputs": [],
   "source": [
    "import numpy as np\n",
    "import pandas as pd"
   ]
  },
  {
   "cell_type": "markdown",
   "metadata": {},
   "source": [
    "La función de `pandas` que se encarga de leer los archivos de Excel es `read_excel`. Los parámetros por defecto que utiliza se pueden ver a continuación:\n",
    "\n",
    "`pd.read_excel(io, sheetname=0, header=0, skiprows=None, skip_footer=0, index_col=None, parse_cols=None, parse_dates=False, date_parser=None, na_values=None, thousands=None, convert_float=True, has_index_names=None, converters=None, engine=None, **kwds)`\n",
    "\n",
    "Donde `io` será un string que corresponderá al nombre del archivo a leer si el archivo está alojado localmente o la URL si el archivo está en la red, `sheetname` será el nombre de la hoja de Excel que se quiere importar o un número en el cual 0 corresponde a la primera hoja. Para saber más de los otros parámetros puedes utilizar la ayuda de IPython escribiendo en una celda "
   ]
  },
  {
   "cell_type": "code",
   "execution_count": 7,
   "metadata": {
    "collapsed": false
   },
   "outputs": [],
   "source": [
    "pd.read_excel?"
   ]
  },
  {
   "cell_type": "markdown",
   "metadata": {},
   "source": [
    "y se desplegará la página de documentación de la función con una explicación pormenorizada de todos los parámetros. \n",
    "\n",
    "Supongamos que tenemos el archivo con nombre `tpob_2014-cp01.xls` descargado de la página del proyecto Open Data BCN con los datos de población por barrios de Barcelona y queremos cargarlo en nuestro notebook de Jupyter. Para hacerlo probaríamos:"
   ]
  },
  {
   "cell_type": "code",
   "execution_count": 16,
   "metadata": {
    "collapsed": false
   },
   "outputs": [
    {
     "data": {
      "text/html": [
       "<div>\n",
       "<table border=\"1\" class=\"dataframe\">\n",
       "  <thead>\n",
       "    <tr style=\"text-align: right;\">\n",
       "      <th></th>\n",
       "      <th>Característiques de la població per barris. Any 2014</th>\n",
       "      <th>Unnamed: 1</th>\n",
       "      <th>Unnamed: 2</th>\n",
       "      <th>Unnamed: 3</th>\n",
       "      <th>Unnamed: 4</th>\n",
       "      <th>Unnamed: 5</th>\n",
       "      <th>Unnamed: 6</th>\n",
       "    </tr>\n",
       "  </thead>\n",
       "  <tbody>\n",
       "    <tr>\n",
       "      <th>0</th>\n",
       "      <td>Sexe</td>\n",
       "      <td>NaN</td>\n",
       "      <td>NaN</td>\n",
       "      <td>NaN</td>\n",
       "      <td>NaN</td>\n",
       "      <td>NaN</td>\n",
       "      <td>NaN</td>\n",
       "    </tr>\n",
       "    <tr>\n",
       "      <th>1</th>\n",
       "      <td>NaN</td>\n",
       "      <td>Dte.</td>\n",
       "      <td>NaN</td>\n",
       "      <td>Barris</td>\n",
       "      <td>TOTAL</td>\n",
       "      <td>Homes</td>\n",
       "      <td>Dones</td>\n",
       "    </tr>\n",
       "    <tr>\n",
       "      <th>2</th>\n",
       "      <td>NaN</td>\n",
       "      <td>NaN</td>\n",
       "      <td>NaN</td>\n",
       "      <td>NaN</td>\n",
       "      <td>NaN</td>\n",
       "      <td>NaN</td>\n",
       "      <td>NaN</td>\n",
       "    </tr>\n",
       "    <tr>\n",
       "      <th>3</th>\n",
       "      <td>NaN</td>\n",
       "      <td>BARCELONA</td>\n",
       "      <td>NaN</td>\n",
       "      <td>NaN</td>\n",
       "      <td>1613393</td>\n",
       "      <td>764650</td>\n",
       "      <td>848743</td>\n",
       "    </tr>\n",
       "    <tr>\n",
       "      <th>4</th>\n",
       "      <td>NaN</td>\n",
       "      <td>NaN</td>\n",
       "      <td>NaN</td>\n",
       "      <td>NaN</td>\n",
       "      <td>NaN</td>\n",
       "      <td>NaN</td>\n",
       "      <td>NaN</td>\n",
       "    </tr>\n",
       "    <tr>\n",
       "      <th>5</th>\n",
       "      <td>NaN</td>\n",
       "      <td>1</td>\n",
       "      <td>NaN</td>\n",
       "      <td>1. el Raval</td>\n",
       "      <td>48471</td>\n",
       "      <td>26612</td>\n",
       "      <td>21859</td>\n",
       "    </tr>\n",
       "    <tr>\n",
       "      <th>6</th>\n",
       "      <td>NaN</td>\n",
       "      <td>1</td>\n",
       "      <td>NaN</td>\n",
       "      <td>2. el Barri Gòtic</td>\n",
       "      <td>15911</td>\n",
       "      <td>8420</td>\n",
       "      <td>7491</td>\n",
       "    </tr>\n",
       "    <tr>\n",
       "      <th>7</th>\n",
       "      <td>NaN</td>\n",
       "      <td>1</td>\n",
       "      <td>NaN</td>\n",
       "      <td>3. la Barceloneta</td>\n",
       "      <td>15181</td>\n",
       "      <td>7562</td>\n",
       "      <td>7619</td>\n",
       "    </tr>\n",
       "    <tr>\n",
       "      <th>8</th>\n",
       "      <td>NaN</td>\n",
       "      <td>1</td>\n",
       "      <td>NaN</td>\n",
       "      <td>4. Sant Pere, Santa Caterina i la Ribera</td>\n",
       "      <td>22674</td>\n",
       "      <td>11376</td>\n",
       "      <td>11298</td>\n",
       "    </tr>\n",
       "    <tr>\n",
       "      <th>9</th>\n",
       "      <td>NaN</td>\n",
       "      <td>2</td>\n",
       "      <td>NaN</td>\n",
       "      <td>5. el Fort Pienc</td>\n",
       "      <td>31785</td>\n",
       "      <td>14974</td>\n",
       "      <td>16811</td>\n",
       "    </tr>\n",
       "  </tbody>\n",
       "</table>\n",
       "</div>"
      ],
      "text/plain": [
       "  Característiques de la població per barris. Any 2014 Unnamed: 1  Unnamed: 2  \\\n",
       "0                                               Sexe          NaN         NaN   \n",
       "1                                                NaN         Dte.         NaN   \n",
       "2                                                NaN          NaN         NaN   \n",
       "3                                                NaN    BARCELONA         NaN   \n",
       "4                                                NaN          NaN         NaN   \n",
       "5                                                NaN            1         NaN   \n",
       "6                                                NaN            1         NaN   \n",
       "7                                                NaN            1         NaN   \n",
       "8                                                NaN            1         NaN   \n",
       "9                                                NaN            2         NaN   \n",
       "\n",
       "                                 Unnamed: 3 Unnamed: 4 Unnamed: 5 Unnamed: 6  \n",
       "0                                       NaN        NaN        NaN        NaN  \n",
       "1                                    Barris      TOTAL      Homes      Dones  \n",
       "2                                       NaN        NaN        NaN        NaN  \n",
       "3                                       NaN    1613393     764650     848743  \n",
       "4                                       NaN        NaN        NaN        NaN  \n",
       "5                               1. el Raval      48471      26612      21859  \n",
       "6                         2. el Barri Gòtic      15911       8420       7491  \n",
       "7                         3. la Barceloneta      15181       7562       7619  \n",
       "8  4. Sant Pere, Santa Caterina i la Ribera      22674      11376      11298  \n",
       "9                          5. el Fort Pienc      31785      14974      16811  "
      ]
     },
     "execution_count": 16,
     "metadata": {},
     "output_type": "execute_result"
    }
   ],
   "source": [
    "df = pd.read_excel(\"data/tpob_2014-cp01.xls\")\n",
    "df.head(n=10)"
   ]
  },
  {
   "cell_type": "markdown",
   "metadata": {},
   "source": [
    "Podemos ver que las cabeceras no son las correctas porque aparecen en la fila de índice 1. La función leyó todo el archivo y asignó mal las cabeceras. para solucionar el problema podemos hacer una lectura del archivo pero ignorando las dos primeras filas de la siguiente manera:"
   ]
  },
  {
   "cell_type": "code",
   "execution_count": 17,
   "metadata": {
    "collapsed": false
   },
   "outputs": [
    {
     "data": {
      "text/html": [
       "<div>\n",
       "<table border=\"1\" class=\"dataframe\">\n",
       "  <thead>\n",
       "    <tr style=\"text-align: right;\">\n",
       "      <th></th>\n",
       "      <th>Unnamed: 0</th>\n",
       "      <th>Dte.</th>\n",
       "      <th>Unnamed: 2</th>\n",
       "      <th>Barris</th>\n",
       "      <th>TOTAL</th>\n",
       "      <th>Homes</th>\n",
       "      <th>Dones</th>\n",
       "    </tr>\n",
       "  </thead>\n",
       "  <tbody>\n",
       "    <tr>\n",
       "      <th>0</th>\n",
       "      <td>NaN</td>\n",
       "      <td>NaN</td>\n",
       "      <td>NaN</td>\n",
       "      <td>NaN</td>\n",
       "      <td>NaN</td>\n",
       "      <td>NaN</td>\n",
       "      <td>NaN</td>\n",
       "    </tr>\n",
       "    <tr>\n",
       "      <th>1</th>\n",
       "      <td>NaN</td>\n",
       "      <td>BARCELONA</td>\n",
       "      <td>NaN</td>\n",
       "      <td>NaN</td>\n",
       "      <td>1613393</td>\n",
       "      <td>764650</td>\n",
       "      <td>848743</td>\n",
       "    </tr>\n",
       "    <tr>\n",
       "      <th>2</th>\n",
       "      <td>NaN</td>\n",
       "      <td>NaN</td>\n",
       "      <td>NaN</td>\n",
       "      <td>NaN</td>\n",
       "      <td>NaN</td>\n",
       "      <td>NaN</td>\n",
       "      <td>NaN</td>\n",
       "    </tr>\n",
       "    <tr>\n",
       "      <th>3</th>\n",
       "      <td>NaN</td>\n",
       "      <td>1</td>\n",
       "      <td>NaN</td>\n",
       "      <td>1. el Raval</td>\n",
       "      <td>48471</td>\n",
       "      <td>26612</td>\n",
       "      <td>21859</td>\n",
       "    </tr>\n",
       "    <tr>\n",
       "      <th>4</th>\n",
       "      <td>NaN</td>\n",
       "      <td>1</td>\n",
       "      <td>NaN</td>\n",
       "      <td>2. el Barri Gòtic</td>\n",
       "      <td>15911</td>\n",
       "      <td>8420</td>\n",
       "      <td>7491</td>\n",
       "    </tr>\n",
       "    <tr>\n",
       "      <th>5</th>\n",
       "      <td>NaN</td>\n",
       "      <td>1</td>\n",
       "      <td>NaN</td>\n",
       "      <td>3. la Barceloneta</td>\n",
       "      <td>15181</td>\n",
       "      <td>7562</td>\n",
       "      <td>7619</td>\n",
       "    </tr>\n",
       "    <tr>\n",
       "      <th>6</th>\n",
       "      <td>NaN</td>\n",
       "      <td>1</td>\n",
       "      <td>NaN</td>\n",
       "      <td>4. Sant Pere, Santa Caterina i la Ribera</td>\n",
       "      <td>22674</td>\n",
       "      <td>11376</td>\n",
       "      <td>11298</td>\n",
       "    </tr>\n",
       "    <tr>\n",
       "      <th>7</th>\n",
       "      <td>NaN</td>\n",
       "      <td>2</td>\n",
       "      <td>NaN</td>\n",
       "      <td>5. el Fort Pienc</td>\n",
       "      <td>31785</td>\n",
       "      <td>14974</td>\n",
       "      <td>16811</td>\n",
       "    </tr>\n",
       "    <tr>\n",
       "      <th>8</th>\n",
       "      <td>NaN</td>\n",
       "      <td>2</td>\n",
       "      <td>NaN</td>\n",
       "      <td>6. la Sagrada Família</td>\n",
       "      <td>51562</td>\n",
       "      <td>23673</td>\n",
       "      <td>27889</td>\n",
       "    </tr>\n",
       "    <tr>\n",
       "      <th>9</th>\n",
       "      <td>NaN</td>\n",
       "      <td>2</td>\n",
       "      <td>NaN</td>\n",
       "      <td>7. la Dreta de l'Eixample</td>\n",
       "      <td>43749</td>\n",
       "      <td>20088</td>\n",
       "      <td>23661</td>\n",
       "    </tr>\n",
       "  </tbody>\n",
       "</table>\n",
       "</div>"
      ],
      "text/plain": [
       "  Unnamed: 0       Dte.  Unnamed: 2                                    Barris  \\\n",
       "0        NaN        NaN         NaN                                       NaN   \n",
       "1        NaN  BARCELONA         NaN                                       NaN   \n",
       "2        NaN        NaN         NaN                                       NaN   \n",
       "3        NaN          1         NaN                               1. el Raval   \n",
       "4        NaN          1         NaN                         2. el Barri Gòtic   \n",
       "5        NaN          1         NaN                         3. la Barceloneta   \n",
       "6        NaN          1         NaN  4. Sant Pere, Santa Caterina i la Ribera   \n",
       "7        NaN          2         NaN                          5. el Fort Pienc   \n",
       "8        NaN          2         NaN                     6. la Sagrada Família   \n",
       "9        NaN          2         NaN                 7. la Dreta de l'Eixample   \n",
       "\n",
       "     TOTAL   Homes   Dones  \n",
       "0      NaN     NaN     NaN  \n",
       "1  1613393  764650  848743  \n",
       "2      NaN     NaN     NaN  \n",
       "3    48471   26612   21859  \n",
       "4    15911    8420    7491  \n",
       "5    15181    7562    7619  \n",
       "6    22674   11376   11298  \n",
       "7    31785   14974   16811  \n",
       "8    51562   23673   27889  \n",
       "9    43749   20088   23661  "
      ]
     },
     "execution_count": 17,
     "metadata": {},
     "output_type": "execute_result"
    }
   ],
   "source": [
    "df = pd.read_excel(\"data/tpob_2014-cp01.xls\", skiprows=2)\n",
    "df.head(n=10)"
   ]
  },
  {
   "cell_type": "markdown",
   "metadata": {},
   "source": [
    "Ahora las cabeceras son las correctas pero aun podríamos elimimar las filas de índice 0 a 2 y quedarnos con los datos de los barrios, el total de barcelona ya lo podremos calcular como la suma de todos los barrios.\n",
    "Para eliminar las filas que no queremos hacemos:"
   ]
  },
  {
   "cell_type": "code",
   "execution_count": 20,
   "metadata": {
    "collapsed": false
   },
   "outputs": [
    {
     "data": {
      "text/html": [
       "<div>\n",
       "<table border=\"1\" class=\"dataframe\">\n",
       "  <thead>\n",
       "    <tr style=\"text-align: right;\">\n",
       "      <th></th>\n",
       "      <th>Unnamed: 0</th>\n",
       "      <th>Dte.</th>\n",
       "      <th>Unnamed: 2</th>\n",
       "      <th>Barris</th>\n",
       "      <th>TOTAL</th>\n",
       "      <th>Homes</th>\n",
       "      <th>Dones</th>\n",
       "    </tr>\n",
       "  </thead>\n",
       "  <tbody>\n",
       "    <tr>\n",
       "      <th>3</th>\n",
       "      <td>NaN</td>\n",
       "      <td>1</td>\n",
       "      <td>NaN</td>\n",
       "      <td>1. el Raval</td>\n",
       "      <td>48471</td>\n",
       "      <td>26612</td>\n",
       "      <td>21859</td>\n",
       "    </tr>\n",
       "    <tr>\n",
       "      <th>4</th>\n",
       "      <td>NaN</td>\n",
       "      <td>1</td>\n",
       "      <td>NaN</td>\n",
       "      <td>2. el Barri Gòtic</td>\n",
       "      <td>15911</td>\n",
       "      <td>8420</td>\n",
       "      <td>7491</td>\n",
       "    </tr>\n",
       "    <tr>\n",
       "      <th>5</th>\n",
       "      <td>NaN</td>\n",
       "      <td>1</td>\n",
       "      <td>NaN</td>\n",
       "      <td>3. la Barceloneta</td>\n",
       "      <td>15181</td>\n",
       "      <td>7562</td>\n",
       "      <td>7619</td>\n",
       "    </tr>\n",
       "    <tr>\n",
       "      <th>6</th>\n",
       "      <td>NaN</td>\n",
       "      <td>1</td>\n",
       "      <td>NaN</td>\n",
       "      <td>4. Sant Pere, Santa Caterina i la Ribera</td>\n",
       "      <td>22674</td>\n",
       "      <td>11376</td>\n",
       "      <td>11298</td>\n",
       "    </tr>\n",
       "    <tr>\n",
       "      <th>7</th>\n",
       "      <td>NaN</td>\n",
       "      <td>2</td>\n",
       "      <td>NaN</td>\n",
       "      <td>5. el Fort Pienc</td>\n",
       "      <td>31785</td>\n",
       "      <td>14974</td>\n",
       "      <td>16811</td>\n",
       "    </tr>\n",
       "    <tr>\n",
       "      <th>8</th>\n",
       "      <td>NaN</td>\n",
       "      <td>2</td>\n",
       "      <td>NaN</td>\n",
       "      <td>6. la Sagrada Família</td>\n",
       "      <td>51562</td>\n",
       "      <td>23673</td>\n",
       "      <td>27889</td>\n",
       "    </tr>\n",
       "    <tr>\n",
       "      <th>9</th>\n",
       "      <td>NaN</td>\n",
       "      <td>2</td>\n",
       "      <td>NaN</td>\n",
       "      <td>7. la Dreta de l'Eixample</td>\n",
       "      <td>43749</td>\n",
       "      <td>20088</td>\n",
       "      <td>23661</td>\n",
       "    </tr>\n",
       "    <tr>\n",
       "      <th>10</th>\n",
       "      <td>NaN</td>\n",
       "      <td>2</td>\n",
       "      <td>NaN</td>\n",
       "      <td>8. l'Antiga Esquerra de l'Eixample</td>\n",
       "      <td>41975</td>\n",
       "      <td>19351</td>\n",
       "      <td>22624</td>\n",
       "    </tr>\n",
       "    <tr>\n",
       "      <th>11</th>\n",
       "      <td>NaN</td>\n",
       "      <td>2</td>\n",
       "      <td>NaN</td>\n",
       "      <td>9. la Nova Esquerra de l'Eixample</td>\n",
       "      <td>57863</td>\n",
       "      <td>26806</td>\n",
       "      <td>31057</td>\n",
       "    </tr>\n",
       "    <tr>\n",
       "      <th>12</th>\n",
       "      <td>NaN</td>\n",
       "      <td>2</td>\n",
       "      <td>NaN</td>\n",
       "      <td>10. Sant Antoni</td>\n",
       "      <td>38369</td>\n",
       "      <td>18073</td>\n",
       "      <td>20296</td>\n",
       "    </tr>\n",
       "  </tbody>\n",
       "</table>\n",
       "</div>"
      ],
      "text/plain": [
       "   Unnamed: 0 Dte.  Unnamed: 2                                    Barris  \\\n",
       "3         NaN    1         NaN                               1. el Raval   \n",
       "4         NaN    1         NaN                         2. el Barri Gòtic   \n",
       "5         NaN    1         NaN                         3. la Barceloneta   \n",
       "6         NaN    1         NaN  4. Sant Pere, Santa Caterina i la Ribera   \n",
       "7         NaN    2         NaN                          5. el Fort Pienc   \n",
       "8         NaN    2         NaN                     6. la Sagrada Família   \n",
       "9         NaN    2         NaN                 7. la Dreta de l'Eixample   \n",
       "10        NaN    2         NaN        8. l'Antiga Esquerra de l'Eixample   \n",
       "11        NaN    2         NaN         9. la Nova Esquerra de l'Eixample   \n",
       "12        NaN    2         NaN                           10. Sant Antoni   \n",
       "\n",
       "    TOTAL  Homes  Dones  \n",
       "3   48471  26612  21859  \n",
       "4   15911   8420   7491  \n",
       "5   15181   7562   7619  \n",
       "6   22674  11376  11298  \n",
       "7   31785  14974  16811  \n",
       "8   51562  23673  27889  \n",
       "9   43749  20088  23661  \n",
       "10  41975  19351  22624  \n",
       "11  57863  26806  31057  \n",
       "12  38369  18073  20296  "
      ]
     },
     "execution_count": 20,
     "metadata": {},
     "output_type": "execute_result"
    }
   ],
   "source": [
    "df2 = df.drop([0,1,2])\n",
    "df2.head(n=10)"
   ]
  },
  {
   "cell_type": "markdown",
   "metadata": {},
   "source": [
    "Donde utilizamos la función `drop` para eliminar las filas no deseadas (las de índices 0, 1 y 2). Observemos que los índices no se reajustan de nuevo a cero. Para volver a ponerlos a ceros debemos usar la función `reset_index`:"
   ]
  },
  {
   "cell_type": "code",
   "execution_count": 21,
   "metadata": {
    "collapsed": false
   },
   "outputs": [
    {
     "data": {
      "text/html": [
       "<div>\n",
       "<table border=\"1\" class=\"dataframe\">\n",
       "  <thead>\n",
       "    <tr style=\"text-align: right;\">\n",
       "      <th></th>\n",
       "      <th>index</th>\n",
       "      <th>Unnamed: 0</th>\n",
       "      <th>Dte.</th>\n",
       "      <th>Unnamed: 2</th>\n",
       "      <th>Barris</th>\n",
       "      <th>TOTAL</th>\n",
       "      <th>Homes</th>\n",
       "      <th>Dones</th>\n",
       "    </tr>\n",
       "  </thead>\n",
       "  <tbody>\n",
       "    <tr>\n",
       "      <th>0</th>\n",
       "      <td>3</td>\n",
       "      <td>NaN</td>\n",
       "      <td>1</td>\n",
       "      <td>NaN</td>\n",
       "      <td>1. el Raval</td>\n",
       "      <td>48471</td>\n",
       "      <td>26612</td>\n",
       "      <td>21859</td>\n",
       "    </tr>\n",
       "    <tr>\n",
       "      <th>1</th>\n",
       "      <td>4</td>\n",
       "      <td>NaN</td>\n",
       "      <td>1</td>\n",
       "      <td>NaN</td>\n",
       "      <td>2. el Barri Gòtic</td>\n",
       "      <td>15911</td>\n",
       "      <td>8420</td>\n",
       "      <td>7491</td>\n",
       "    </tr>\n",
       "    <tr>\n",
       "      <th>2</th>\n",
       "      <td>5</td>\n",
       "      <td>NaN</td>\n",
       "      <td>1</td>\n",
       "      <td>NaN</td>\n",
       "      <td>3. la Barceloneta</td>\n",
       "      <td>15181</td>\n",
       "      <td>7562</td>\n",
       "      <td>7619</td>\n",
       "    </tr>\n",
       "    <tr>\n",
       "      <th>3</th>\n",
       "      <td>6</td>\n",
       "      <td>NaN</td>\n",
       "      <td>1</td>\n",
       "      <td>NaN</td>\n",
       "      <td>4. Sant Pere, Santa Caterina i la Ribera</td>\n",
       "      <td>22674</td>\n",
       "      <td>11376</td>\n",
       "      <td>11298</td>\n",
       "    </tr>\n",
       "    <tr>\n",
       "      <th>4</th>\n",
       "      <td>7</td>\n",
       "      <td>NaN</td>\n",
       "      <td>2</td>\n",
       "      <td>NaN</td>\n",
       "      <td>5. el Fort Pienc</td>\n",
       "      <td>31785</td>\n",
       "      <td>14974</td>\n",
       "      <td>16811</td>\n",
       "    </tr>\n",
       "    <tr>\n",
       "      <th>5</th>\n",
       "      <td>8</td>\n",
       "      <td>NaN</td>\n",
       "      <td>2</td>\n",
       "      <td>NaN</td>\n",
       "      <td>6. la Sagrada Família</td>\n",
       "      <td>51562</td>\n",
       "      <td>23673</td>\n",
       "      <td>27889</td>\n",
       "    </tr>\n",
       "    <tr>\n",
       "      <th>6</th>\n",
       "      <td>9</td>\n",
       "      <td>NaN</td>\n",
       "      <td>2</td>\n",
       "      <td>NaN</td>\n",
       "      <td>7. la Dreta de l'Eixample</td>\n",
       "      <td>43749</td>\n",
       "      <td>20088</td>\n",
       "      <td>23661</td>\n",
       "    </tr>\n",
       "    <tr>\n",
       "      <th>7</th>\n",
       "      <td>10</td>\n",
       "      <td>NaN</td>\n",
       "      <td>2</td>\n",
       "      <td>NaN</td>\n",
       "      <td>8. l'Antiga Esquerra de l'Eixample</td>\n",
       "      <td>41975</td>\n",
       "      <td>19351</td>\n",
       "      <td>22624</td>\n",
       "    </tr>\n",
       "    <tr>\n",
       "      <th>8</th>\n",
       "      <td>11</td>\n",
       "      <td>NaN</td>\n",
       "      <td>2</td>\n",
       "      <td>NaN</td>\n",
       "      <td>9. la Nova Esquerra de l'Eixample</td>\n",
       "      <td>57863</td>\n",
       "      <td>26806</td>\n",
       "      <td>31057</td>\n",
       "    </tr>\n",
       "    <tr>\n",
       "      <th>9</th>\n",
       "      <td>12</td>\n",
       "      <td>NaN</td>\n",
       "      <td>2</td>\n",
       "      <td>NaN</td>\n",
       "      <td>10. Sant Antoni</td>\n",
       "      <td>38369</td>\n",
       "      <td>18073</td>\n",
       "      <td>20296</td>\n",
       "    </tr>\n",
       "  </tbody>\n",
       "</table>\n",
       "</div>"
      ],
      "text/plain": [
       "   index Unnamed: 0 Dte.  Unnamed: 2  \\\n",
       "0      3        NaN    1         NaN   \n",
       "1      4        NaN    1         NaN   \n",
       "2      5        NaN    1         NaN   \n",
       "3      6        NaN    1         NaN   \n",
       "4      7        NaN    2         NaN   \n",
       "5      8        NaN    2         NaN   \n",
       "6      9        NaN    2         NaN   \n",
       "7     10        NaN    2         NaN   \n",
       "8     11        NaN    2         NaN   \n",
       "9     12        NaN    2         NaN   \n",
       "\n",
       "                                     Barris  TOTAL  Homes  Dones  \n",
       "0                               1. el Raval  48471  26612  21859  \n",
       "1                         2. el Barri Gòtic  15911   8420   7491  \n",
       "2                         3. la Barceloneta  15181   7562   7619  \n",
       "3  4. Sant Pere, Santa Caterina i la Ribera  22674  11376  11298  \n",
       "4                          5. el Fort Pienc  31785  14974  16811  \n",
       "5                     6. la Sagrada Família  51562  23673  27889  \n",
       "6                 7. la Dreta de l'Eixample  43749  20088  23661  \n",
       "7        8. l'Antiga Esquerra de l'Eixample  41975  19351  22624  \n",
       "8         9. la Nova Esquerra de l'Eixample  57863  26806  31057  \n",
       "9                           10. Sant Antoni  38369  18073  20296  "
      ]
     },
     "execution_count": 21,
     "metadata": {},
     "output_type": "execute_result"
    }
   ],
   "source": [
    "df3 = df2.reset_index()\n",
    "df3.head(n=10)"
   ]
  },
  {
   "cell_type": "markdown",
   "metadata": {},
   "source": [
    "Pero ahora la antigua columna de índices queda y no se elimina. Si queremos eliminar las columnas inútiles como ésta o las que aparecen con el nombre Unnamed:0 y Unnamed:2 podemos usar también `drop` pero tenemos que cambiar el eje (`axis`). Por defecto la función drop usa el parámetro axis = 0 que corresponde a las filas, pero si pponemos explícitamente axis = 1 le estaremos diciendo a drop que se trata de columnas. En nuetro caso deberá quedar:"
   ]
  },
  {
   "cell_type": "code",
   "execution_count": 22,
   "metadata": {
    "collapsed": false
   },
   "outputs": [
    {
     "data": {
      "text/html": [
       "<div>\n",
       "<table border=\"1\" class=\"dataframe\">\n",
       "  <thead>\n",
       "    <tr style=\"text-align: right;\">\n",
       "      <th></th>\n",
       "      <th>Dte.</th>\n",
       "      <th>Barris</th>\n",
       "      <th>TOTAL</th>\n",
       "      <th>Homes</th>\n",
       "      <th>Dones</th>\n",
       "    </tr>\n",
       "  </thead>\n",
       "  <tbody>\n",
       "    <tr>\n",
       "      <th>0</th>\n",
       "      <td>1</td>\n",
       "      <td>1. el Raval</td>\n",
       "      <td>48471</td>\n",
       "      <td>26612</td>\n",
       "      <td>21859</td>\n",
       "    </tr>\n",
       "    <tr>\n",
       "      <th>1</th>\n",
       "      <td>1</td>\n",
       "      <td>2. el Barri Gòtic</td>\n",
       "      <td>15911</td>\n",
       "      <td>8420</td>\n",
       "      <td>7491</td>\n",
       "    </tr>\n",
       "    <tr>\n",
       "      <th>2</th>\n",
       "      <td>1</td>\n",
       "      <td>3. la Barceloneta</td>\n",
       "      <td>15181</td>\n",
       "      <td>7562</td>\n",
       "      <td>7619</td>\n",
       "    </tr>\n",
       "    <tr>\n",
       "      <th>3</th>\n",
       "      <td>1</td>\n",
       "      <td>4. Sant Pere, Santa Caterina i la Ribera</td>\n",
       "      <td>22674</td>\n",
       "      <td>11376</td>\n",
       "      <td>11298</td>\n",
       "    </tr>\n",
       "    <tr>\n",
       "      <th>4</th>\n",
       "      <td>2</td>\n",
       "      <td>5. el Fort Pienc</td>\n",
       "      <td>31785</td>\n",
       "      <td>14974</td>\n",
       "      <td>16811</td>\n",
       "    </tr>\n",
       "    <tr>\n",
       "      <th>5</th>\n",
       "      <td>2</td>\n",
       "      <td>6. la Sagrada Família</td>\n",
       "      <td>51562</td>\n",
       "      <td>23673</td>\n",
       "      <td>27889</td>\n",
       "    </tr>\n",
       "    <tr>\n",
       "      <th>6</th>\n",
       "      <td>2</td>\n",
       "      <td>7. la Dreta de l'Eixample</td>\n",
       "      <td>43749</td>\n",
       "      <td>20088</td>\n",
       "      <td>23661</td>\n",
       "    </tr>\n",
       "    <tr>\n",
       "      <th>7</th>\n",
       "      <td>2</td>\n",
       "      <td>8. l'Antiga Esquerra de l'Eixample</td>\n",
       "      <td>41975</td>\n",
       "      <td>19351</td>\n",
       "      <td>22624</td>\n",
       "    </tr>\n",
       "    <tr>\n",
       "      <th>8</th>\n",
       "      <td>2</td>\n",
       "      <td>9. la Nova Esquerra de l'Eixample</td>\n",
       "      <td>57863</td>\n",
       "      <td>26806</td>\n",
       "      <td>31057</td>\n",
       "    </tr>\n",
       "    <tr>\n",
       "      <th>9</th>\n",
       "      <td>2</td>\n",
       "      <td>10. Sant Antoni</td>\n",
       "      <td>38369</td>\n",
       "      <td>18073</td>\n",
       "      <td>20296</td>\n",
       "    </tr>\n",
       "  </tbody>\n",
       "</table>\n",
       "</div>"
      ],
      "text/plain": [
       "  Dte.                                    Barris  TOTAL  Homes  Dones\n",
       "0    1                               1. el Raval  48471  26612  21859\n",
       "1    1                         2. el Barri Gòtic  15911   8420   7491\n",
       "2    1                         3. la Barceloneta  15181   7562   7619\n",
       "3    1  4. Sant Pere, Santa Caterina i la Ribera  22674  11376  11298\n",
       "4    2                          5. el Fort Pienc  31785  14974  16811\n",
       "5    2                     6. la Sagrada Família  51562  23673  27889\n",
       "6    2                 7. la Dreta de l'Eixample  43749  20088  23661\n",
       "7    2        8. l'Antiga Esquerra de l'Eixample  41975  19351  22624\n",
       "8    2         9. la Nova Esquerra de l'Eixample  57863  26806  31057\n",
       "9    2                           10. Sant Antoni  38369  18073  20296"
      ]
     },
     "execution_count": 22,
     "metadata": {},
     "output_type": "execute_result"
    }
   ],
   "source": [
    "df4 = df3.drop(['index', 'Unnamed: 0', 'Unnamed: 2'], axis = 1)\n",
    "df4.head(n=10)"
   ]
  },
  {
   "cell_type": "markdown",
   "metadata": {},
   "source": [
    "Ya nos queda mejor, ahora todas las columnas tienen sentido (Dte. corresponde al distrito). Quizás nos quedaría una última cosa, podríamos utilizar la columna barris como índice:"
   ]
  },
  {
   "cell_type": "code",
   "execution_count": 23,
   "metadata": {
    "collapsed": false
   },
   "outputs": [
    {
     "data": {
      "text/html": [
       "<div>\n",
       "<table border=\"1\" class=\"dataframe\">\n",
       "  <thead>\n",
       "    <tr style=\"text-align: right;\">\n",
       "      <th></th>\n",
       "      <th>Dte.</th>\n",
       "      <th>TOTAL</th>\n",
       "      <th>Homes</th>\n",
       "      <th>Dones</th>\n",
       "    </tr>\n",
       "    <tr>\n",
       "      <th>Barris</th>\n",
       "      <th></th>\n",
       "      <th></th>\n",
       "      <th></th>\n",
       "      <th></th>\n",
       "    </tr>\n",
       "  </thead>\n",
       "  <tbody>\n",
       "    <tr>\n",
       "      <th>1. el Raval</th>\n",
       "      <td>1</td>\n",
       "      <td>48471</td>\n",
       "      <td>26612</td>\n",
       "      <td>21859</td>\n",
       "    </tr>\n",
       "    <tr>\n",
       "      <th>2. el Barri Gòtic</th>\n",
       "      <td>1</td>\n",
       "      <td>15911</td>\n",
       "      <td>8420</td>\n",
       "      <td>7491</td>\n",
       "    </tr>\n",
       "    <tr>\n",
       "      <th>3. la Barceloneta</th>\n",
       "      <td>1</td>\n",
       "      <td>15181</td>\n",
       "      <td>7562</td>\n",
       "      <td>7619</td>\n",
       "    </tr>\n",
       "    <tr>\n",
       "      <th>4. Sant Pere, Santa Caterina i la Ribera</th>\n",
       "      <td>1</td>\n",
       "      <td>22674</td>\n",
       "      <td>11376</td>\n",
       "      <td>11298</td>\n",
       "    </tr>\n",
       "    <tr>\n",
       "      <th>5. el Fort Pienc</th>\n",
       "      <td>2</td>\n",
       "      <td>31785</td>\n",
       "      <td>14974</td>\n",
       "      <td>16811</td>\n",
       "    </tr>\n",
       "    <tr>\n",
       "      <th>6. la Sagrada Família</th>\n",
       "      <td>2</td>\n",
       "      <td>51562</td>\n",
       "      <td>23673</td>\n",
       "      <td>27889</td>\n",
       "    </tr>\n",
       "    <tr>\n",
       "      <th>7. la Dreta de l'Eixample</th>\n",
       "      <td>2</td>\n",
       "      <td>43749</td>\n",
       "      <td>20088</td>\n",
       "      <td>23661</td>\n",
       "    </tr>\n",
       "    <tr>\n",
       "      <th>8. l'Antiga Esquerra de l'Eixample</th>\n",
       "      <td>2</td>\n",
       "      <td>41975</td>\n",
       "      <td>19351</td>\n",
       "      <td>22624</td>\n",
       "    </tr>\n",
       "    <tr>\n",
       "      <th>9. la Nova Esquerra de l'Eixample</th>\n",
       "      <td>2</td>\n",
       "      <td>57863</td>\n",
       "      <td>26806</td>\n",
       "      <td>31057</td>\n",
       "    </tr>\n",
       "    <tr>\n",
       "      <th>10. Sant Antoni</th>\n",
       "      <td>2</td>\n",
       "      <td>38369</td>\n",
       "      <td>18073</td>\n",
       "      <td>20296</td>\n",
       "    </tr>\n",
       "  </tbody>\n",
       "</table>\n",
       "</div>"
      ],
      "text/plain": [
       "                                         Dte.  TOTAL  Homes  Dones\n",
       "Barris                                                            \n",
       "1. el Raval                                 1  48471  26612  21859\n",
       "2. el Barri Gòtic                           1  15911   8420   7491\n",
       "3. la Barceloneta                           1  15181   7562   7619\n",
       "4. Sant Pere, Santa Caterina i la Ribera    1  22674  11376  11298\n",
       "5. el Fort Pienc                            2  31785  14974  16811\n",
       "6. la Sagrada Família                       2  51562  23673  27889\n",
       "7. la Dreta de l'Eixample                   2  43749  20088  23661\n",
       "8. l'Antiga Esquerra de l'Eixample          2  41975  19351  22624\n",
       "9. la Nova Esquerra de l'Eixample           2  57863  26806  31057\n",
       "10. Sant Antoni                             2  38369  18073  20296"
      ]
     },
     "execution_count": 23,
     "metadata": {},
     "output_type": "execute_result"
    }
   ],
   "source": [
    "df5 = df4.set_index('Barris')\n",
    "df5.head(n=10)"
   ]
  },
  {
   "cell_type": "markdown",
   "metadata": {},
   "source": [
    "Ahora sí tenemos los datos listos para utilizarlos. Por ejemplo, si quisiéramos saber el número total de habitantes, hombres y mujeres de Barcelona podemos usar el método `sum`:"
   ]
  },
  {
   "cell_type": "code",
   "execution_count": 26,
   "metadata": {
    "collapsed": false
   },
   "outputs": [
    {
     "data": {
      "text/plain": [
       "Dte.         456\n",
       "TOTAL    1613393\n",
       "Homes     764650\n",
       "Dones     848743\n",
       "dtype: float64"
      ]
     },
     "execution_count": 26,
     "metadata": {},
     "output_type": "execute_result"
    }
   ],
   "source": [
    "df5.sum()"
   ]
  },
  {
   "cell_type": "markdown",
   "metadata": {},
   "source": [
    "Para saber la media de habitantes por barrio:"
   ]
  },
  {
   "cell_type": "code",
   "execution_count": 27,
   "metadata": {
    "collapsed": false
   },
   "outputs": [
    {
     "data": {
      "text/plain": [
       "Dte.         6.246575\n",
       "TOTAL    21802.608108\n",
       "Homes    10333.108108\n",
       "Dones    11469.500000\n",
       "dtype: float64"
      ]
     },
     "execution_count": 27,
     "metadata": {},
     "output_type": "execute_result"
    }
   ],
   "source": [
    "df5.mean()"
   ]
  },
  {
   "cell_type": "markdown",
   "metadata": {},
   "source": [
    "Si queremos saber cuántos habitantes tiene el barrio más populoso:"
   ]
  },
  {
   "cell_type": "code",
   "execution_count": 28,
   "metadata": {
    "collapsed": false
   },
   "outputs": [
    {
     "data": {
      "text/plain": [
       "TOTAL    57863\n",
       "dtype: float64"
      ]
     },
     "execution_count": 28,
     "metadata": {},
     "output_type": "execute_result"
    }
   ],
   "source": [
    "df5[['TOTAL']].max()"
   ]
  },
  {
   "cell_type": "markdown",
   "metadata": {},
   "source": [
    "Vemos que tiene 57863 habitantes, pero... ¿cuál es el barrio? Para saberlo debemos encontrar el índice de ese máximo:"
   ]
  },
  {
   "cell_type": "code",
   "execution_count": 29,
   "metadata": {
    "collapsed": false
   },
   "outputs": [
    {
     "data": {
      "text/plain": [
       "TOTAL    9. la Nova Esquerra de l'Eixample\n",
       "dtype: object"
      ]
     },
     "execution_count": 29,
     "metadata": {},
     "output_type": "execute_result"
    }
   ],
   "source": [
    "df5[['TOTAL']].idxmax()"
   ]
  },
  {
   "cell_type": "markdown",
   "metadata": {},
   "source": [
    "Si quisieramos saber qué barrio tiene el mínimo de hombres:"
   ]
  },
  {
   "cell_type": "code",
   "execution_count": 30,
   "metadata": {
    "collapsed": false
   },
   "outputs": [
    {
     "data": {
      "text/plain": [
       "Homes    No consta\n",
       "dtype: object"
      ]
     },
     "execution_count": 30,
     "metadata": {},
     "output_type": "execute_result"
    }
   ],
   "source": [
    "df5[['Homes']].idxmin()"
   ]
  },
  {
   "cell_type": "markdown",
   "metadata": {},
   "source": [
    "Nos aparece un \"No consta\". ¿De dónde sale esto? Si miramos las últimas filas de la tabla lo descubriremos:"
   ]
  },
  {
   "cell_type": "code",
   "execution_count": 31,
   "metadata": {
    "collapsed": false
   },
   "outputs": [
    {
     "data": {
      "text/html": [
       "<div>\n",
       "<table border=\"1\" class=\"dataframe\">\n",
       "  <thead>\n",
       "    <tr style=\"text-align: right;\">\n",
       "      <th></th>\n",
       "      <th>Dte.</th>\n",
       "      <th>TOTAL</th>\n",
       "      <th>Homes</th>\n",
       "      <th>Dones</th>\n",
       "    </tr>\n",
       "    <tr>\n",
       "      <th>Barris</th>\n",
       "      <th></th>\n",
       "      <th></th>\n",
       "      <th></th>\n",
       "      <th></th>\n",
       "    </tr>\n",
       "  </thead>\n",
       "  <tbody>\n",
       "    <tr>\n",
       "      <th>72. Sant Martí de Provençals</th>\n",
       "      <td>10</td>\n",
       "      <td>26018</td>\n",
       "      <td>12219</td>\n",
       "      <td>13799</td>\n",
       "    </tr>\n",
       "    <tr>\n",
       "      <th>73. la Verneda i la Pau</th>\n",
       "      <td>10</td>\n",
       "      <td>28903</td>\n",
       "      <td>13784</td>\n",
       "      <td>15119</td>\n",
       "    </tr>\n",
       "    <tr>\n",
       "      <th>No consta</th>\n",
       "      <td>NaN</td>\n",
       "      <td>1</td>\n",
       "      <td>0</td>\n",
       "      <td>1</td>\n",
       "    </tr>\n",
       "    <tr>\n",
       "      <th>NaN</th>\n",
       "      <td>NaN</td>\n",
       "      <td>NaN</td>\n",
       "      <td>NaN</td>\n",
       "      <td>NaN</td>\n",
       "    </tr>\n",
       "    <tr>\n",
       "      <th>NaN</th>\n",
       "      <td>NaN</td>\n",
       "      <td>NaN</td>\n",
       "      <td>NaN</td>\n",
       "      <td>NaN</td>\n",
       "    </tr>\n",
       "  </tbody>\n",
       "</table>\n",
       "</div>"
      ],
      "text/plain": [
       "                             Dte.  TOTAL  Homes  Dones\n",
       "Barris                                                \n",
       "72. Sant Martí de Provençals   10  26018  12219  13799\n",
       "73. la Verneda i la Pau        10  28903  13784  15119\n",
       "No consta                     NaN      1      0      1\n",
       "NaN                           NaN    NaN    NaN    NaN\n",
       "NaN                           NaN    NaN    NaN    NaN"
      ]
     },
     "execution_count": 31,
     "metadata": {},
     "output_type": "execute_result"
    }
   ],
   "source": [
    "df5.tail()"
   ]
  },
  {
   "cell_type": "markdown",
   "metadata": {},
   "source": [
    "Hay tres filas al final que no tienen sentido y que nos convendría eliminar:"
   ]
  },
  {
   "cell_type": "code",
   "execution_count": 35,
   "metadata": {
    "collapsed": false
   },
   "outputs": [
    {
     "data": {
      "text/html": [
       "<div>\n",
       "<table border=\"1\" class=\"dataframe\">\n",
       "  <thead>\n",
       "    <tr style=\"text-align: right;\">\n",
       "      <th></th>\n",
       "      <th>Dte.</th>\n",
       "      <th>TOTAL</th>\n",
       "      <th>Homes</th>\n",
       "      <th>Dones</th>\n",
       "    </tr>\n",
       "    <tr>\n",
       "      <th>Barris</th>\n",
       "      <th></th>\n",
       "      <th></th>\n",
       "      <th></th>\n",
       "      <th></th>\n",
       "    </tr>\n",
       "  </thead>\n",
       "  <tbody>\n",
       "    <tr>\n",
       "      <th>69. Diagonal Mar i el Front Marítim del Poblenou</th>\n",
       "      <td>10</td>\n",
       "      <td>13351</td>\n",
       "      <td>6499</td>\n",
       "      <td>6852</td>\n",
       "    </tr>\n",
       "    <tr>\n",
       "      <th>70. el Besòs i el Maresme</th>\n",
       "      <td>10</td>\n",
       "      <td>23191</td>\n",
       "      <td>11889</td>\n",
       "      <td>11302</td>\n",
       "    </tr>\n",
       "    <tr>\n",
       "      <th>71. Provençals del Poblenou</th>\n",
       "      <td>10</td>\n",
       "      <td>20184</td>\n",
       "      <td>9748</td>\n",
       "      <td>10436</td>\n",
       "    </tr>\n",
       "    <tr>\n",
       "      <th>72. Sant Martí de Provençals</th>\n",
       "      <td>10</td>\n",
       "      <td>26018</td>\n",
       "      <td>12219</td>\n",
       "      <td>13799</td>\n",
       "    </tr>\n",
       "    <tr>\n",
       "      <th>73. la Verneda i la Pau</th>\n",
       "      <td>10</td>\n",
       "      <td>28903</td>\n",
       "      <td>13784</td>\n",
       "      <td>15119</td>\n",
       "    </tr>\n",
       "  </tbody>\n",
       "</table>\n",
       "</div>"
      ],
      "text/plain": [
       "                                                 Dte.  TOTAL  Homes  Dones\n",
       "Barris                                                                    \n",
       "69. Diagonal Mar i el Front Marítim del Poblenou   10  13351   6499   6852\n",
       "70. el Besòs i el Maresme                          10  23191  11889  11302\n",
       "71. Provençals del Poblenou                        10  20184   9748  10436\n",
       "72. Sant Martí de Provençals                       10  26018  12219  13799\n",
       "73. la Verneda i la Pau                            10  28903  13784  15119"
      ]
     },
     "execution_count": 35,
     "metadata": {},
     "output_type": "execute_result"
    }
   ],
   "source": [
    "df6 = df5.drop(['No consta', np.nan])\n",
    "df6.tail()"
   ]
  },
  {
   "cell_type": "markdown",
   "metadata": {},
   "source": [
    "Si ahora buscamos el barrio conmenos hombres:"
   ]
  },
  {
   "cell_type": "code",
   "execution_count": 37,
   "metadata": {
    "collapsed": false
   },
   "outputs": [
    {
     "data": {
      "text/plain": [
       "Homes    42. la Clota\n",
       "dtype: object"
      ]
     },
     "execution_count": 37,
     "metadata": {},
     "output_type": "execute_result"
    }
   ],
   "source": [
    "df6[['Homes']].idxmin()"
   ]
  },
  {
   "cell_type": "markdown",
   "metadata": {},
   "source": [
    "y si queremos saber cuántos son:"
   ]
  },
  {
   "cell_type": "code",
   "execution_count": 38,
   "metadata": {
    "collapsed": false
   },
   "outputs": [
    {
     "data": {
      "text/plain": [
       "Dte.       1\n",
       "TOTAL    529\n",
       "Homes    259\n",
       "Dones    270\n",
       "dtype: float64"
      ]
     },
     "execution_count": 38,
     "metadata": {},
     "output_type": "execute_result"
    }
   ],
   "source": [
    "df6.min()"
   ]
  },
  {
   "cell_type": "markdown",
   "metadata": {},
   "source": [
    "vemos que son 259.\n",
    "\n",
    "Una cosa a destacar es que cada vez que hacíamos operaciones sobre filas o columnas hacíamos una copia diferente del data frame, esto se debe a que si se hacen operaciones sobre filas o columnas el objeto original no se modifica y, si queremos que los cambios se guarden debemos ponerlos en un nuevo objeto."
   ]
  },
  {
   "cell_type": "code",
   "execution_count": 58,
   "metadata": {
    "collapsed": false
   },
   "outputs": [],
   "source": [
    "import matplotlib.pyplot as plt\n",
    "%matplotlib inline"
   ]
  },
  {
   "cell_type": "code",
   "execution_count": 89,
   "metadata": {
    "collapsed": false
   },
   "outputs": [
    {
     "data": {
      "text/plain": [
       "[<matplotlib.text.Text at 0x7fae326e6390>,\n",
       " <matplotlib.text.Text at 0x7fae3257e8d0>,\n",
       " <matplotlib.text.Text at 0x7fae325ffd90>,\n",
       " <matplotlib.text.Text at 0x7fae325ffe50>,\n",
       " <matplotlib.text.Text at 0x7fae325b5d50>,\n",
       " <matplotlib.text.Text at 0x7fae325b5e50>,\n",
       " <matplotlib.text.Text at 0x7fae32874750>,\n",
       " <matplotlib.text.Text at 0x7fae32542f90>,\n",
       " <matplotlib.text.Text at 0x7fae3253a4d0>]"
      ]
     },
     "execution_count": 89,
     "metadata": {},
     "output_type": "execute_result"
    },
    {
     "data": {
      "image/png": "[encoded data removed]",
      "text/plain": [
       "<matplotlib.figure.Figure at 0x7fae32a051d0>"
      ]
     },
     "metadata": {},
     "output_type": "display_data"
    }
   ],
   "source": [
    "ax = df6.plot()\n",
    "xlabels = list(df6.index)\n",
    "ax.set_xticklabels(xlabels, rotation=90)"
   ]
  }
 ],
 "metadata": {
  "kernelspec": {
   "display_name": "Python 2",
   "language": "python",
   "name": "python2"
  },
  "language_info": {
   "codemirror_mode": {
    "name": "ipython",
    "version": 2
   },
   "file_extension": ".py",
   "mimetype": "text/x-python",
   "name": "python",
   "nbconvert_exporter": "python",
   "pygments_lexer": "ipython2",
   "version": "2.7.6"
  }
 },
 "nbformat": 4,
 "nbformat_minor": 0
}
