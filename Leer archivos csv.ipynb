{
 "cells": [
  {
   "cell_type": "markdown",
   "metadata": {},
   "source": [
    "# Como leer un archivo csv"
   ]
  },
  {
   "cell_type": "markdown",
   "metadata": {},
   "source": [
    "Una manera usual de guardar datos en un archivo es hacerlo en un archivo donde los datos estan separados por un símbolo separador. El caso más común es el de separarlos con comas, eso dio origen a los archivos con extensión `csv` (Comma Separated Values), que significa \"valores separados por comas\". \n",
    "\n",
    "El módulo `pandas` cuenta con una función que permite leer este tipo de archivos fácilmente. Para ello leeremos un archivo descargado de Open Data BCN con la densidad poblacional por barrios de Barcelona. Veamos como hacerlo: "
   ]
  },
  {
   "cell_type": "code",
   "execution_count": 2,
   "metadata": {
    "collapsed": false
   },
   "outputs": [
    {
     "data": {
      "text/html": [
       "<div>\n",
       "<table border=\"1\" class=\"dataframe\">\n",
       "  <thead>\n",
       "    <tr style=\"text-align: right;\">\n",
       "      <th></th>\n",
       "      <th>Dte</th>\n",
       "      <th>Barris</th>\n",
       "      <th>Poblacio</th>\n",
       "      <th>Superficie(ha)</th>\n",
       "      <th>Densitat(hab/ha)</th>\n",
       "      <th>DensitatNeta(hab/ha)</th>\n",
       "    </tr>\n",
       "  </thead>\n",
       "  <tbody>\n",
       "    <tr>\n",
       "      <th>0</th>\n",
       "      <td>NaN</td>\n",
       "      <td>NaN</td>\n",
       "      <td>NaN</td>\n",
       "      <td>NaN</td>\n",
       "      <td>NaN</td>\n",
       "      <td>NaN</td>\n",
       "    </tr>\n",
       "    <tr>\n",
       "      <th>1</th>\n",
       "      <td>BARCELONA</td>\n",
       "      <td>NaN</td>\n",
       "      <td>1.611.822</td>\n",
       "      <td>10.234</td>\n",
       "      <td>157</td>\n",
       "      <td>625</td>\n",
       "    </tr>\n",
       "    <tr>\n",
       "      <th>2</th>\n",
       "      <td>NaN</td>\n",
       "      <td>NaN</td>\n",
       "      <td>NaN</td>\n",
       "      <td>NaN</td>\n",
       "      <td>NaN</td>\n",
       "      <td>NaN</td>\n",
       "    </tr>\n",
       "    <tr>\n",
       "      <th>3</th>\n",
       "      <td>1</td>\n",
       "      <td>1. el Raval</td>\n",
       "      <td>48.800</td>\n",
       "      <td>110.000</td>\n",
       "      <td>444</td>\n",
       "      <td>983</td>\n",
       "    </tr>\n",
       "    <tr>\n",
       "      <th>4</th>\n",
       "      <td>1</td>\n",
       "      <td>2. el Barri Gòtic</td>\n",
       "      <td>16.267</td>\n",
       "      <td>84.000</td>\n",
       "      <td>193</td>\n",
       "      <td>477</td>\n",
       "    </tr>\n",
       "  </tbody>\n",
       "</table>\n",
       "</div>"
      ],
      "text/plain": [
       "         Dte             Barris   Poblacio  Superficie(ha)  Densitat(hab/ha)  \\\n",
       "0        NaN                NaN        NaN             NaN               NaN   \n",
       "1  BARCELONA                NaN  1.611.822          10.234               157   \n",
       "2        NaN                NaN        NaN             NaN               NaN   \n",
       "3          1        1. el Raval     48.800         110.000               444   \n",
       "4          1  2. el Barri Gòtic     16.267          84.000               193   \n",
       "\n",
       "   DensitatNeta(hab/ha)  \n",
       "0                   NaN  \n",
       "1                   625  \n",
       "2                   NaN  \n",
       "3                   983  \n",
       "4                   477  "
      ]
     },
     "execution_count": 2,
     "metadata": {},
     "output_type": "execute_result"
    }
   ],
   "source": [
    "import numpy as np\n",
    "import pandas as pd\n",
    "\n",
    "dens = pd.read_csv(\"data/superficiedens2013.csv\", sep=\";\", encoding=\"latin\")\n",
    "dens.head()"
   ]
  },
  {
   "cell_type": "markdown",
   "metadata": {
    "collapsed": true
   },
   "source": [
    "En este caso hemos leído un archivo llamado `superficiedens2013.csv` que se encuentra en la carpeta `data`. En este caso el camino donde se encuentra la carpeta es relativo al sitio donde se encuentra nuestro notebook. Para leer los datos de los archivos se usa el método `read_csv` de `pandas`. Este método cuanta con parámetros modificadores de los parámetros predeterminados, por ejemplo, el separador predeterminado suele ser la coma \",\", pero en este caso los datos estaban separados por punto y coma \";\" así que hemos tenido que indicarlo con el modificador `sep=\";\"`. La codificación predeterminada es ASCII (la del alfabeto inglés), pero el archivo que leímos tenía otra codificación para poder usar tildes, por eso hemos tenido que usar el parámetro `encoding=\"latin\"`.\n",
    "Una vez leído el archivo se guarda en la variable `dens` que es un objeto `DataFrame` de `pandas`, como podemos ver a continuación:"
   ]
  },
  {
   "cell_type": "code",
   "execution_count": 2,
   "metadata": {
    "collapsed": false
   },
   "outputs": [
    {
     "data": {
      "text/plain": [
       "pandas.core.frame.DataFrame"
      ]
     },
     "execution_count": 2,
     "metadata": {},
     "output_type": "execute_result"
    }
   ],
   "source": [
    "type(dens)"
   ]
  },
  {
   "cell_type": "markdown",
   "metadata": {},
   "source": [
    "La función `head` nos permite ver solo las primeras filas del DataFrame para investigar como se ven. También existe la función `tail` que nos permite ver las últimas filas y comprobar si se ha leído completo."
   ]
  },
  {
   "cell_type": "code",
   "execution_count": 4,
   "metadata": {
    "collapsed": false
   },
   "outputs": [
    {
     "data": {
      "text/html": [
       "<div>\n",
       "<table border=\"1\" class=\"dataframe\">\n",
       "  <thead>\n",
       "    <tr style=\"text-align: right;\">\n",
       "      <th></th>\n",
       "      <th>Dte</th>\n",
       "      <th>Barris</th>\n",
       "      <th>Poblacio</th>\n",
       "      <th>Superficie(ha)</th>\n",
       "      <th>Densitat(hab/ha)</th>\n",
       "      <th>DensitatNeta(hab/ha)</th>\n",
       "    </tr>\n",
       "  </thead>\n",
       "  <tbody>\n",
       "    <tr>\n",
       "      <th>71</th>\n",
       "      <td>10</td>\n",
       "      <td>69. Diagonal Mar i el Front Marítim del Poblenou</td>\n",
       "      <td>12.894</td>\n",
       "      <td>128</td>\n",
       "      <td>101</td>\n",
       "      <td>560.000</td>\n",
       "    </tr>\n",
       "    <tr>\n",
       "      <th>72</th>\n",
       "      <td>10</td>\n",
       "      <td>70. el Besòs i el Maresme</td>\n",
       "      <td>23.118</td>\n",
       "      <td>128</td>\n",
       "      <td>180</td>\n",
       "      <td>878.000</td>\n",
       "    </tr>\n",
       "    <tr>\n",
       "      <th>73</th>\n",
       "      <td>10</td>\n",
       "      <td>71. Provençals del Poblenou</td>\n",
       "      <td>20.052</td>\n",
       "      <td>111</td>\n",
       "      <td>180</td>\n",
       "      <td>1.487</td>\n",
       "    </tr>\n",
       "    <tr>\n",
       "      <th>74</th>\n",
       "      <td>10</td>\n",
       "      <td>72. Sant Martí de Provençals</td>\n",
       "      <td>25.994</td>\n",
       "      <td>75</td>\n",
       "      <td>349</td>\n",
       "      <td>1.144</td>\n",
       "    </tr>\n",
       "    <tr>\n",
       "      <th>75</th>\n",
       "      <td>10</td>\n",
       "      <td>73. la Verneda i la Pau</td>\n",
       "      <td>29.154</td>\n",
       "      <td>112</td>\n",
       "      <td>260</td>\n",
       "      <td>899.000</td>\n",
       "    </tr>\n",
       "  </tbody>\n",
       "</table>\n",
       "</div>"
      ],
      "text/plain": [
       "   Dte                                            Barris Poblacio  \\\n",
       "71  10  69. Diagonal Mar i el Front Marítim del Poblenou   12.894   \n",
       "72  10                         70. el Besòs i el Maresme   23.118   \n",
       "73  10                       71. Provençals del Poblenou   20.052   \n",
       "74  10                      72. Sant Martí de Provençals   25.994   \n",
       "75  10                           73. la Verneda i la Pau   29.154   \n",
       "\n",
       "    Superficie(ha)  Densitat(hab/ha)  DensitatNeta(hab/ha)  \n",
       "71             128               101               560.000  \n",
       "72             128               180               878.000  \n",
       "73             111               180                 1.487  \n",
       "74              75               349                 1.144  \n",
       "75             112               260               899.000  "
      ]
     },
     "execution_count": 4,
     "metadata": {},
     "output_type": "execute_result"
    }
   ],
   "source": [
    "dens.tail()"
   ]
  },
  {
   "cell_type": "markdown",
   "metadata": {},
   "source": [
    "En la primera tabla pudimos ver que aparecían unos NaN (Not a Number). En este caso quiere decir que no hay datos allí, en cambio había separadores. Después veremos como arreglárnosla con ellos. "
   ]
  },
  {
   "cell_type": "markdown",
   "metadata": {},
   "source": [
    "## Especificar la columna índice cuando se lee un archivo CSV"
   ]
  },
  {
   "cell_type": "markdown",
   "metadata": {},
   "source": [
    "En el ejemplo anterior vimos como leer un archivo y vimos que si no se especifica nada se agrega automáticamente una columna de números que funcionan como índice y que comienza por el 0.\n",
    "La columna índice puede elegirse a la hora de leer el archivo, por ejemplo si eligiéramos la columna \"Barris\" como índice deberíamos poner: "
   ]
  },
  {
   "cell_type": "code",
   "execution_count": 4,
   "metadata": {
    "collapsed": false
   },
   "outputs": [
    {
     "data": {
      "text/html": [
       "<div>\n",
       "<table border=\"1\" class=\"dataframe\">\n",
       "  <thead>\n",
       "    <tr style=\"text-align: right;\">\n",
       "      <th></th>\n",
       "      <th>Dte</th>\n",
       "      <th>Poblacio</th>\n",
       "      <th>Superficie(ha)</th>\n",
       "      <th>Densitat(hab/ha)</th>\n",
       "      <th>DensitatNeta(hab/ha)</th>\n",
       "    </tr>\n",
       "    <tr>\n",
       "      <th>Barris</th>\n",
       "      <th></th>\n",
       "      <th></th>\n",
       "      <th></th>\n",
       "      <th></th>\n",
       "      <th></th>\n",
       "    </tr>\n",
       "  </thead>\n",
       "  <tbody>\n",
       "    <tr>\n",
       "      <th>NaN</th>\n",
       "      <td>NaN</td>\n",
       "      <td>NaN</td>\n",
       "      <td>NaN</td>\n",
       "      <td>NaN</td>\n",
       "      <td>NaN</td>\n",
       "    </tr>\n",
       "    <tr>\n",
       "      <th>NaN</th>\n",
       "      <td>BARCELONA</td>\n",
       "      <td>1.611.822</td>\n",
       "      <td>10.234</td>\n",
       "      <td>157</td>\n",
       "      <td>625.000</td>\n",
       "    </tr>\n",
       "    <tr>\n",
       "      <th>NaN</th>\n",
       "      <td>NaN</td>\n",
       "      <td>NaN</td>\n",
       "      <td>NaN</td>\n",
       "      <td>NaN</td>\n",
       "      <td>NaN</td>\n",
       "    </tr>\n",
       "    <tr>\n",
       "      <th>1. el Raval</th>\n",
       "      <td>1</td>\n",
       "      <td>48.800</td>\n",
       "      <td>110.000</td>\n",
       "      <td>444</td>\n",
       "      <td>983.000</td>\n",
       "    </tr>\n",
       "    <tr>\n",
       "      <th>2. el Barri Gòtic</th>\n",
       "      <td>1</td>\n",
       "      <td>16.267</td>\n",
       "      <td>84.000</td>\n",
       "      <td>193</td>\n",
       "      <td>477.000</td>\n",
       "    </tr>\n",
       "    <tr>\n",
       "      <th>3. la Barceloneta</th>\n",
       "      <td>1</td>\n",
       "      <td>15.503</td>\n",
       "      <td>132.000</td>\n",
       "      <td>117</td>\n",
       "      <td>1.185</td>\n",
       "    </tr>\n",
       "    <tr>\n",
       "      <th>4. Sant Pere, Santa Caterina i la Ribera</th>\n",
       "      <td>1</td>\n",
       "      <td>22.769</td>\n",
       "      <td>111.000</td>\n",
       "      <td>204</td>\n",
       "      <td>705.000</td>\n",
       "    </tr>\n",
       "    <tr>\n",
       "      <th>5. el Fort Pienc</th>\n",
       "      <td>2</td>\n",
       "      <td>31.738</td>\n",
       "      <td>93.000</td>\n",
       "      <td>343</td>\n",
       "      <td>950.000</td>\n",
       "    </tr>\n",
       "    <tr>\n",
       "      <th>6. la Sagrada Família</th>\n",
       "      <td>2</td>\n",
       "      <td>51.806</td>\n",
       "      <td>103.000</td>\n",
       "      <td>502</td>\n",
       "      <td>1.006</td>\n",
       "    </tr>\n",
       "    <tr>\n",
       "      <th>7. la Dreta de l'Eixample</th>\n",
       "      <td>2</td>\n",
       "      <td>43.384</td>\n",
       "      <td>212.000</td>\n",
       "      <td>204</td>\n",
       "      <td>381.000</td>\n",
       "    </tr>\n",
       "  </tbody>\n",
       "</table>\n",
       "</div>"
      ],
      "text/plain": [
       "                                                Dte   Poblacio  \\\n",
       "Barris                                                           \n",
       "NaN                                             NaN        NaN   \n",
       "NaN                                       BARCELONA  1.611.822   \n",
       "NaN                                             NaN        NaN   \n",
       "1. el Raval                                       1     48.800   \n",
       "2. el Barri Gòtic                                 1     16.267   \n",
       "3. la Barceloneta                                 1     15.503   \n",
       "4. Sant Pere, Santa Caterina i la Ribera          1     22.769   \n",
       "5. el Fort Pienc                                  2     31.738   \n",
       "6. la Sagrada Família                             2     51.806   \n",
       "7. la Dreta de l'Eixample                         2     43.384   \n",
       "\n",
       "                                          Superficie(ha)  Densitat(hab/ha)  \\\n",
       "Barris                                                                       \n",
       "NaN                                                  NaN               NaN   \n",
       "NaN                                               10.234               157   \n",
       "NaN                                                  NaN               NaN   \n",
       "1. el Raval                                      110.000               444   \n",
       "2. el Barri Gòtic                                 84.000               193   \n",
       "3. la Barceloneta                                132.000               117   \n",
       "4. Sant Pere, Santa Caterina i la Ribera         111.000               204   \n",
       "5. el Fort Pienc                                  93.000               343   \n",
       "6. la Sagrada Família                            103.000               502   \n",
       "7. la Dreta de l'Eixample                        212.000               204   \n",
       "\n",
       "                                          DensitatNeta(hab/ha)  \n",
       "Barris                                                          \n",
       "NaN                                                        NaN  \n",
       "NaN                                                    625.000  \n",
       "NaN                                                        NaN  \n",
       "1. el Raval                                            983.000  \n",
       "2. el Barri Gòtic                                      477.000  \n",
       "3. la Barceloneta                                        1.185  \n",
       "4. Sant Pere, Santa Caterina i la Ribera               705.000  \n",
       "5. el Fort Pienc                                       950.000  \n",
       "6. la Sagrada Família                                    1.006  \n",
       "7. la Dreta de l'Eixample                              381.000  "
      ]
     },
     "execution_count": 4,
     "metadata": {},
     "output_type": "execute_result"
    }
   ],
   "source": [
    "dens1 = pd.read_csv(\"data/superficiedens2013.csv\", sep=\";\", encoding=\"latin\", index_col=1)\n",
    "dens1.head(n=10)"
   ]
  }
 ],
 "metadata": {
  "kernelspec": {
   "display_name": "Python 2",
   "language": "python",
   "name": "python2"
  },
  "language_info": {
   "codemirror_mode": {
    "name": "ipython",
    "version": 2
   },
   "file_extension": ".py",
   "mimetype": "text/x-python",
   "name": "python",
   "nbconvert_exporter": "python",
   "pygments_lexer": "ipython2",
   "version": "2.7.6"
  }
 },
 "nbformat": 4,
 "nbformat_minor": 0
}
