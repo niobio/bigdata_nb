{
 "cells": [
  {
   "cell_type": "markdown",
   "metadata": {},
   "source": [
    "# Leer archivos XML"
   ]
  },
  {
   "cell_type": "markdown",
   "metadata": {},
   "source": [
    "El formato de archivo .xml tiene una estructura de árbol, mientras que los DataFrame de `pandas` tienen una estructura de tabla 2D. Por lo tanto, no hay una manera automática de conversión entre los dos formatos. Se debe entender bien la estructura del archivo XML y saber como se quiere mapear estos datos en una tabla bidimensional. Por eso cada conversión XML a DataFrame es un problema diferente.\n",
    "\n",
    "Abajo podemos ver como es la estructura de un archivo XML, en este caso corresponde a un listado de los árboles de Barcelona."
   ]
  },
  {
   "cell_type": "code",
   "execution_count": null,
   "metadata": {
    "collapsed": true
   },
   "outputs": [],
   "source": [
    "<?xml version=\"1.0\" encoding=\"utf-8\"?>\n",
    "<llistatArbrat> \n",
    "    <arbre> \n",
    "        <id>24838</id> \n",
    "        <posicioX>430639.138486028</posicioX> \n",
    "        <posicioY>4587803.20190948</posicioY> \n",
    "        <espaiVerd>Valldaura, Pg. (Llucmajor, Pl. - Fabra i Puig, Pl.)</espaiVerd> \n",
    "        <adreca>Pg Valldaura, 184</adreca> \n",
    "        <alcada>EXEMPLAR</alcada> \n",
    "        <nomCientific>Populus nigra 'Italica'</nomCientific> \n",
    "        <nomEsp>Chopo lombardo</nomEsp> \n",
    "        <nomCat>Pollancre gavatx</nomCat> \n",
    "        <nomEspVeg>EXEMPLAR</nomEspVeg> \n",
    "        <amplada></amplada> \n",
    "        <plantacioDT></plantacioDT> \n",
    "        <posicio>VIARI</posicio> \n",
    "        <tipAigua></tipAigua> \n",
    "        <tipReg>DIFUSIÓ</tipReg> \n",
    "        <tipSuperf>GESPA</tipSuperf> \n",
    "        <tipSuport>PARTERRE</tipSuport> \n",
    "        <cobertaEscocell></cobertaEscocell> \n",
    "        <midaEscocell></midaEscocell> \n",
    "        <voraEscocell></voraEscocell> \n",
    "    </arbre> \n",
    "</llistatArbrat>"
   ]
  },
  {
   "cell_type": "markdown",
   "metadata": {},
   "source": [
    "Podemos apreciar la estructura de árbol donde las categorías contienen subcategorías. Este archivo es bastante sencillo ya que la categoría principal está bajo la etiqueta `llistatArbrat` que contiene la subcategoría `arbre` y esta a su vez contiene todos los datos en campos definidos por etiquetas.\n",
    "\n",
    "Veamos como leer este archivo:"
   ]
  },
  {
   "cell_type": "code",
   "execution_count": 63,
   "metadata": {
    "collapsed": false
   },
   "outputs": [
    {
     "data": {
      "text/html": [
       "<div>\n",
       "<table border=\"1\" class=\"dataframe\">\n",
       "  <thead>\n",
       "    <tr style=\"text-align: right;\">\n",
       "      <th></th>\n",
       "      <th>id</th>\n",
       "      <th>posicioX</th>\n",
       "      <th>posicioY</th>\n",
       "      <th>espaiVerd</th>\n",
       "      <th>adreca</th>\n",
       "      <th>alcada</th>\n",
       "      <th>nomCientific</th>\n",
       "      <th>nomEsp</th>\n",
       "      <th>nomCat</th>\n",
       "      <th>nomEspVeg</th>\n",
       "      <th>amplada</th>\n",
       "      <th>plantacioDT</th>\n",
       "      <th>posicio</th>\n",
       "      <th>tipAigua</th>\n",
       "      <th>tipReg</th>\n",
       "      <th>tipSuperf</th>\n",
       "      <th>tipSuport</th>\n",
       "      <th>cobertaEscocell</th>\n",
       "      <th>midaEscocell</th>\n",
       "      <th>voraEscocell</th>\n",
       "    </tr>\n",
       "  </thead>\n",
       "  <tbody>\n",
       "  </tbody>\n",
       "</table>\n",
       "</div>"
      ],
      "text/plain": [
       "Empty DataFrame\n",
       "Columns: [id, posicioX, posicioY, espaiVerd, adreca, alcada, nomCientific, nomEsp, nomCat, nomEspVeg, amplada, plantacioDT, posicio, tipAigua, tipReg, tipSuperf, tipSuport, cobertaEscocell, midaEscocell, voraEscocell]\n",
       "Index: []"
      ]
     },
     "execution_count": 63,
     "metadata": {},
     "output_type": "execute_result"
    }
   ],
   "source": [
    "from xml.etree import ElementTree as ET\n",
    "import pandas as pd\n",
    "\n",
    "tree = ET.parse(\"../BCNOpenData/work/new2.xml\")\n",
    "root = tree.getroot()\n",
    "\n",
    "col_name = []\n",
    "for child in root[0]:\n",
    "    col_name.append(child.tag)\n",
    "df = pd.DataFrame(columns=col_name)\n",
    "df"
   ]
  },
  {
   "cell_type": "code",
   "execution_count": 64,
   "metadata": {
    "collapsed": false
   },
   "outputs": [
    {
     "data": {
      "text/html": [
       "<div>\n",
       "<table border=\"1\" class=\"dataframe\">\n",
       "  <thead>\n",
       "    <tr style=\"text-align: right;\">\n",
       "      <th></th>\n",
       "      <th>id</th>\n",
       "      <th>posicioX</th>\n",
       "      <th>posicioY</th>\n",
       "      <th>espaiVerd</th>\n",
       "      <th>adreca</th>\n",
       "      <th>alcada</th>\n",
       "      <th>nomCientific</th>\n",
       "      <th>nomEsp</th>\n",
       "      <th>nomCat</th>\n",
       "      <th>nomEspVeg</th>\n",
       "      <th>amplada</th>\n",
       "      <th>plantacioDT</th>\n",
       "      <th>posicio</th>\n",
       "      <th>tipAigua</th>\n",
       "      <th>tipReg</th>\n",
       "      <th>tipSuperf</th>\n",
       "      <th>tipSuport</th>\n",
       "      <th>cobertaEscocell</th>\n",
       "      <th>midaEscocell</th>\n",
       "      <th>voraEscocell</th>\n",
       "    </tr>\n",
       "  </thead>\n",
       "  <tbody>\n",
       "    <tr>\n",
       "      <th>0</th>\n",
       "      <td>24838</td>\n",
       "      <td>430639.138486028</td>\n",
       "      <td>4587803.20190948</td>\n",
       "      <td>Valldaura, Pg. (Llucmajor, Pl. - Fabra i Puig,...</td>\n",
       "      <td>Pg Valldaura, 184</td>\n",
       "      <td>EXEMPLAR</td>\n",
       "      <td>Populus nigra 'Italica'</td>\n",
       "      <td>Chopo lombardo</td>\n",
       "      <td>Pollancre gavatx</td>\n",
       "      <td>EXEMPLAR</td>\n",
       "      <td>None</td>\n",
       "      <td>None</td>\n",
       "      <td>VIARI</td>\n",
       "      <td>None</td>\n",
       "      <td>DIFUSIÓ</td>\n",
       "      <td>GESPA</td>\n",
       "      <td>PARTERRE</td>\n",
       "      <td>None</td>\n",
       "      <td>None</td>\n",
       "      <td>None</td>\n",
       "    </tr>\n",
       "    <tr>\n",
       "      <th>1</th>\n",
       "      <td>24844</td>\n",
       "      <td>430616.306474978</td>\n",
       "      <td>4587806.4110877</td>\n",
       "      <td>Valldaura, Pg. (Llucmajor, Pl. - Fabra i Puig,...</td>\n",
       "      <td>Pg Valldaura, 180</td>\n",
       "      <td>EXEMPLAR</td>\n",
       "      <td>Populus nigra 'Italica'</td>\n",
       "      <td>Chopo lombardo</td>\n",
       "      <td>Pollancre gavatx</td>\n",
       "      <td>EXEMPLAR</td>\n",
       "      <td>None</td>\n",
       "      <td>None</td>\n",
       "      <td>VIARI</td>\n",
       "      <td>None</td>\n",
       "      <td>DIFUSIÓ</td>\n",
       "      <td>GESPA</td>\n",
       "      <td>PARTERRE</td>\n",
       "      <td>None</td>\n",
       "      <td>None</td>\n",
       "      <td>None</td>\n",
       "    </tr>\n",
       "    <tr>\n",
       "      <th>2</th>\n",
       "      <td>29604</td>\n",
       "      <td>428535.285878997</td>\n",
       "      <td>4581299.73478935</td>\n",
       "      <td>Llançà (València - Roma, Av.)</td>\n",
       "      <td>C\\ Llança, 37</td>\n",
       "      <td>GRAN</td>\n",
       "      <td>Pinus pinea</td>\n",
       "      <td>Pino piñonero</td>\n",
       "      <td>Pi pinyoner; pi pinyer</td>\n",
       "      <td>TERCERA</td>\n",
       "      <td>None</td>\n",
       "      <td>None</td>\n",
       "      <td>VIARI</td>\n",
       "      <td>None</td>\n",
       "      <td>DIFUSIÓ</td>\n",
       "      <td>SAULÓ AMB VEGETACIÓ</td>\n",
       "      <td>PARTERRE</td>\n",
       "      <td>None</td>\n",
       "      <td>None</td>\n",
       "      <td>None</td>\n",
       "    </tr>\n",
       "    <tr>\n",
       "      <th>3</th>\n",
       "      <td>39485</td>\n",
       "      <td>428793.407717021</td>\n",
       "      <td>4581225.64271597</td>\n",
       "      <td>Joan Miró, Parc</td>\n",
       "      <td>Parc Joan Miró, 0</td>\n",
       "      <td>MITJANA</td>\n",
       "      <td>Pinus pinea</td>\n",
       "      <td>Pino piñonero</td>\n",
       "      <td>Pi pinyoner; pi pinyer</td>\n",
       "      <td>SEGONA</td>\n",
       "      <td>None</td>\n",
       "      <td>None</td>\n",
       "      <td>VIARI</td>\n",
       "      <td>None</td>\n",
       "      <td>MÀNEGA</td>\n",
       "      <td>PAVIMENT</td>\n",
       "      <td>ESCOCELL RODÓ</td>\n",
       "      <td>SENSE COBERTURA</td>\n",
       "      <td>ENTRE 60 I 100 cm</td>\n",
       "      <td>VORA METÀL·LICA</td>\n",
       "    </tr>\n",
       "    <tr>\n",
       "      <th>4</th>\n",
       "      <td>42691</td>\n",
       "      <td>433516.857016434</td>\n",
       "      <td>4585967.12222804</td>\n",
       "      <td>Prim, Rbla. (Guipúscoa - Binefar)</td>\n",
       "      <td>Rbla Prim, 167</td>\n",
       "      <td>None</td>\n",
       "      <td>Brachychiton populneus</td>\n",
       "      <td>Árbol botella</td>\n",
       "      <td>Arbre ampolla</td>\n",
       "      <td>SEGONA</td>\n",
       "      <td>None</td>\n",
       "      <td>None</td>\n",
       "      <td>VIARI</td>\n",
       "      <td>None</td>\n",
       "      <td>MÀNEGA</td>\n",
       "      <td>SAULÓ SENSE VEGETACIÓ</td>\n",
       "      <td>ALTRES</td>\n",
       "      <td>None</td>\n",
       "      <td>None</td>\n",
       "      <td>None</td>\n",
       "    </tr>\n",
       "  </tbody>\n",
       "</table>\n",
       "</div>"
      ],
      "text/plain": [
       "      id          posicioX          posicioY  \\\n",
       "0  24838  430639.138486028  4587803.20190948   \n",
       "1  24844  430616.306474978   4587806.4110877   \n",
       "2  29604  428535.285878997  4581299.73478935   \n",
       "3  39485  428793.407717021  4581225.64271597   \n",
       "4  42691  433516.857016434  4585967.12222804   \n",
       "\n",
       "                                           espaiVerd             adreca  \\\n",
       "0  Valldaura, Pg. (Llucmajor, Pl. - Fabra i Puig,...  Pg Valldaura, 184   \n",
       "1  Valldaura, Pg. (Llucmajor, Pl. - Fabra i Puig,...  Pg Valldaura, 180   \n",
       "2                      Llançà (València - Roma, Av.)      C\\ Llança, 37   \n",
       "3                                    Joan Miró, Parc  Parc Joan Miró, 0   \n",
       "4                  Prim, Rbla. (Guipúscoa - Binefar)     Rbla Prim, 167   \n",
       "\n",
       "     alcada             nomCientific          nomEsp                  nomCat  \\\n",
       "0  EXEMPLAR  Populus nigra 'Italica'  Chopo lombardo        Pollancre gavatx   \n",
       "1  EXEMPLAR  Populus nigra 'Italica'  Chopo lombardo        Pollancre gavatx   \n",
       "2      GRAN              Pinus pinea   Pino piñonero  Pi pinyoner; pi pinyer   \n",
       "3   MITJANA              Pinus pinea   Pino piñonero  Pi pinyoner; pi pinyer   \n",
       "4      None   Brachychiton populneus   Árbol botella           Arbre ampolla   \n",
       "\n",
       "  nomEspVeg amplada plantacioDT posicio tipAigua   tipReg  \\\n",
       "0  EXEMPLAR    None        None   VIARI     None  DIFUSIÓ   \n",
       "1  EXEMPLAR    None        None   VIARI     None  DIFUSIÓ   \n",
       "2   TERCERA    None        None   VIARI     None  DIFUSIÓ   \n",
       "3    SEGONA    None        None   VIARI     None   MÀNEGA   \n",
       "4    SEGONA    None        None   VIARI     None   MÀNEGA   \n",
       "\n",
       "               tipSuperf      tipSuport  cobertaEscocell       midaEscocell  \\\n",
       "0                  GESPA       PARTERRE             None               None   \n",
       "1                  GESPA       PARTERRE             None               None   \n",
       "2    SAULÓ AMB VEGETACIÓ       PARTERRE             None               None   \n",
       "3               PAVIMENT  ESCOCELL RODÓ  SENSE COBERTURA  ENTRE 60 I 100 cm   \n",
       "4  SAULÓ SENSE VEGETACIÓ         ALTRES             None               None   \n",
       "\n",
       "      voraEscocell  \n",
       "0             None  \n",
       "1             None  \n",
       "2             None  \n",
       "3  VORA METÀL·LICA  \n",
       "4             None  "
      ]
     },
     "execution_count": 64,
     "metadata": {},
     "output_type": "execute_result"
    }
   ],
   "source": [
    "index = 0\n",
    "for child in root:\n",
    "    row=[]\n",
    "    for tag in child:\n",
    "        row.append(tag.text)\n",
    "    row_series = pd.Series(dict(zip(col_name,row)))      \n",
    "    row_series.name = index\n",
    "    index += 1\n",
    "    df = df.append(row_series)\n",
    "df.head()"
   ]
  },
  {
   "cell_type": "code",
   "execution_count": 66,
   "metadata": {
    "collapsed": false
   },
   "outputs": [
    {
     "data": {
      "text/plain": [
       "3159040"
      ]
     },
     "execution_count": 66,
     "metadata": {},
     "output_type": "execute_result"
    }
   ],
   "source": [
    "df.size"
   ]
  },
  {
   "cell_type": "code",
   "execution_count": 68,
   "metadata": {
    "collapsed": true
   },
   "outputs": [],
   "source": [
    "import pickle\n",
    "    \n",
    "pickle.dump( df, open( \"arbres.pkl\", \"wb\" ) )"
   ]
  },
  {
   "cell_type": "code",
   "execution_count": null,
   "metadata": {
    "collapsed": true
   },
   "outputs": [],
   "source": []
  }
 ],
 "metadata": {
  "kernelspec": {
   "display_name": "Python 2",
   "language": "python",
   "name": "python2"
  },
  "language_info": {
   "codemirror_mode": {
    "name": "ipython",
    "version": 2
   },
   "file_extension": ".py",
   "mimetype": "text/x-python",
   "name": "python",
   "nbconvert_exporter": "python",
   "pygments_lexer": "ipython2",
   "version": "2.7.6"
  }
 },
 "nbformat": 4,
 "nbformat_minor": 0
}
