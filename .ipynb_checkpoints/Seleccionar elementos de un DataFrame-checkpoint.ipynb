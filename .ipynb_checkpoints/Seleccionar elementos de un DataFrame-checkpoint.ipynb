{
 "cells": [
  {
   "cell_type": "markdown",
   "metadata": {},
   "source": [
    "# Seleccionar elementos de un DataFrame"
   ]
  },
  {
   "cell_type": "markdown",
   "metadata": {},
   "source": [
    "## Selecionar columnas"
   ]
  },
  {
   "cell_type": "markdown",
   "metadata": {},
   "source": [
    "Para seleccionar columnas de un DataFrame se usa el operador [ ]. Leamos un archivo para verlo en un ejemplo concreto:"
   ]
  },
  {
   "cell_type": "code",
   "execution_count": 1,
   "metadata": {
    "collapsed": false
   },
   "outputs": [
    {
     "data": {
      "text/html": [
       "<div>\n",
       "<table border=\"1\" class=\"dataframe\">\n",
       "  <thead>\n",
       "    <tr style=\"text-align: right;\">\n",
       "      <th></th>\n",
       "      <th>Dte</th>\n",
       "      <th>Poblacio</th>\n",
       "      <th>Superficie(ha)</th>\n",
       "      <th>Densitat(hab/ha)</th>\n",
       "      <th>DensitatNeta(hab/ha)</th>\n",
       "    </tr>\n",
       "    <tr>\n",
       "      <th>Barris</th>\n",
       "      <th></th>\n",
       "      <th></th>\n",
       "      <th></th>\n",
       "      <th></th>\n",
       "      <th></th>\n",
       "    </tr>\n",
       "  </thead>\n",
       "  <tbody>\n",
       "    <tr>\n",
       "      <th>NaN</th>\n",
       "      <td>NaN</td>\n",
       "      <td>NaN</td>\n",
       "      <td>NaN</td>\n",
       "      <td>NaN</td>\n",
       "      <td>NaN</td>\n",
       "    </tr>\n",
       "    <tr>\n",
       "      <th>NaN</th>\n",
       "      <td>BARCELONA</td>\n",
       "      <td>1.611.822</td>\n",
       "      <td>10.234</td>\n",
       "      <td>157</td>\n",
       "      <td>625</td>\n",
       "    </tr>\n",
       "    <tr>\n",
       "      <th>NaN</th>\n",
       "      <td>NaN</td>\n",
       "      <td>NaN</td>\n",
       "      <td>NaN</td>\n",
       "      <td>NaN</td>\n",
       "      <td>NaN</td>\n",
       "    </tr>\n",
       "    <tr>\n",
       "      <th>1. el Raval</th>\n",
       "      <td>1</td>\n",
       "      <td>48.800</td>\n",
       "      <td>110.000</td>\n",
       "      <td>444</td>\n",
       "      <td>983</td>\n",
       "    </tr>\n",
       "    <tr>\n",
       "      <th>2. el Barri Gòtic</th>\n",
       "      <td>1</td>\n",
       "      <td>16.267</td>\n",
       "      <td>84.000</td>\n",
       "      <td>193</td>\n",
       "      <td>477</td>\n",
       "    </tr>\n",
       "  </tbody>\n",
       "</table>\n",
       "</div>"
      ],
      "text/plain": [
       "                         Dte   Poblacio  Superficie(ha)  Densitat(hab/ha)  \\\n",
       "Barris                                                                      \n",
       "NaN                      NaN        NaN             NaN               NaN   \n",
       "NaN                BARCELONA  1.611.822          10.234               157   \n",
       "NaN                      NaN        NaN             NaN               NaN   \n",
       "1. el Raval                1     48.800         110.000               444   \n",
       "2. el Barri Gòtic          1     16.267          84.000               193   \n",
       "\n",
       "                   DensitatNeta(hab/ha)  \n",
       "Barris                                   \n",
       "NaN                                 NaN  \n",
       "NaN                                 625  \n",
       "NaN                                 NaN  \n",
       "1. el Raval                         983  \n",
       "2. el Barri Gòtic                   477  "
      ]
     },
     "execution_count": 1,
     "metadata": {},
     "output_type": "execute_result"
    }
   ],
   "source": [
    "import numpy as np\n",
    "import pandas as pd\n",
    "\n",
    "dens = pd.read_csv(\"data/superficiedens2013.csv\", sep=\";\", encoding=\"latin\", index_col=1)\n",
    "dens.head()"
   ]
  },
  {
   "cell_type": "markdown",
   "metadata": {},
   "source": [
    "La primera columna de la tabla corresponde a los barrios y es la columna índice, la segunda columna corresponde al distrito.\n",
    "\n",
    "Veamos como hacer para seleccionar solo la columna de población (columna de índice 2):"
   ]
  },
  {
   "cell_type": "code",
   "execution_count": 3,
   "metadata": {
    "collapsed": false
   },
   "outputs": [
    {
     "data": {
      "text/html": [
       "<div>\n",
       "<table border=\"1\" class=\"dataframe\">\n",
       "  <thead>\n",
       "    <tr style=\"text-align: right;\">\n",
       "      <th></th>\n",
       "      <th>Superficie(ha)</th>\n",
       "    </tr>\n",
       "    <tr>\n",
       "      <th>Barris</th>\n",
       "      <th></th>\n",
       "    </tr>\n",
       "  </thead>\n",
       "  <tbody>\n",
       "    <tr>\n",
       "      <th>NaN</th>\n",
       "      <td>NaN</td>\n",
       "    </tr>\n",
       "    <tr>\n",
       "      <th>NaN</th>\n",
       "      <td>10.234</td>\n",
       "    </tr>\n",
       "    <tr>\n",
       "      <th>NaN</th>\n",
       "      <td>NaN</td>\n",
       "    </tr>\n",
       "    <tr>\n",
       "      <th>1. el Raval</th>\n",
       "      <td>110.000</td>\n",
       "    </tr>\n",
       "    <tr>\n",
       "      <th>2. el Barri Gòtic</th>\n",
       "      <td>84.000</td>\n",
       "    </tr>\n",
       "  </tbody>\n",
       "</table>\n",
       "</div>"
      ],
      "text/plain": [
       "                   Superficie(ha)\n",
       "Barris                           \n",
       "NaN                           NaN\n",
       "NaN                        10.234\n",
       "NaN                           NaN\n",
       "1. el Raval               110.000\n",
       "2. el Barri Gòtic          84.000"
      ]
     },
     "execution_count": 3,
     "metadata": {},
     "output_type": "execute_result"
    }
   ],
   "source": [
    "dens[[2]].head()"
   ]
  },
  {
   "cell_type": "markdown",
   "metadata": {},
   "source": [
    "Observemos que la columna índice siempre aparece. Debemos usar la notación de índices de Python, es decir, la primera columna tiene índice 0, la seguna 1, y así sucesivamente. Si queremos guardar estos datos en otra variable solo tenemos que asignarlo como por ejemplo:"
   ]
  },
  {
   "cell_type": "code",
   "execution_count": 4,
   "metadata": {
    "collapsed": false
   },
   "outputs": [
    {
     "data": {
      "text/html": [
       "<div>\n",
       "<table border=\"1\" class=\"dataframe\">\n",
       "  <thead>\n",
       "    <tr style=\"text-align: right;\">\n",
       "      <th></th>\n",
       "      <th>Superficie(ha)</th>\n",
       "    </tr>\n",
       "    <tr>\n",
       "      <th>Barris</th>\n",
       "      <th></th>\n",
       "    </tr>\n",
       "  </thead>\n",
       "  <tbody>\n",
       "    <tr>\n",
       "      <th>NaN</th>\n",
       "      <td>NaN</td>\n",
       "    </tr>\n",
       "    <tr>\n",
       "      <th>NaN</th>\n",
       "      <td>10.234</td>\n",
       "    </tr>\n",
       "    <tr>\n",
       "      <th>NaN</th>\n",
       "      <td>NaN</td>\n",
       "    </tr>\n",
       "    <tr>\n",
       "      <th>1. el Raval</th>\n",
       "      <td>110.000</td>\n",
       "    </tr>\n",
       "    <tr>\n",
       "      <th>2. el Barri Gòtic</th>\n",
       "      <td>84.000</td>\n",
       "    </tr>\n",
       "  </tbody>\n",
       "</table>\n",
       "</div>"
      ],
      "text/plain": [
       "                   Superficie(ha)\n",
       "Barris                           \n",
       "NaN                           NaN\n",
       "NaN                        10.234\n",
       "NaN                           NaN\n",
       "1. el Raval               110.000\n",
       "2. el Barri Gòtic          84.000"
      ]
     },
     "execution_count": 4,
     "metadata": {},
     "output_type": "execute_result"
    }
   ],
   "source": [
    "dens_1 = dens[[2]].copy()\n",
    "dens_1.head()"
   ]
  },
  {
   "cell_type": "markdown",
   "metadata": {},
   "source": [
    "Si queremos seleccionar más de una columna tendremos que dar los índices de las columnas:"
   ]
  },
  {
   "cell_type": "code",
   "execution_count": 5,
   "metadata": {
    "collapsed": false
   },
   "outputs": [
    {
     "data": {
      "text/html": [
       "<div>\n",
       "<table border=\"1\" class=\"dataframe\">\n",
       "  <thead>\n",
       "    <tr style=\"text-align: right;\">\n",
       "      <th></th>\n",
       "      <th>Poblacio</th>\n",
       "      <th>Superficie(ha)</th>\n",
       "      <th>Densitat(hab/ha)</th>\n",
       "    </tr>\n",
       "    <tr>\n",
       "      <th>Barris</th>\n",
       "      <th></th>\n",
       "      <th></th>\n",
       "      <th></th>\n",
       "    </tr>\n",
       "  </thead>\n",
       "  <tbody>\n",
       "    <tr>\n",
       "      <th>NaN</th>\n",
       "      <td>NaN</td>\n",
       "      <td>NaN</td>\n",
       "      <td>NaN</td>\n",
       "    </tr>\n",
       "    <tr>\n",
       "      <th>NaN</th>\n",
       "      <td>1.611.822</td>\n",
       "      <td>10.234</td>\n",
       "      <td>157</td>\n",
       "    </tr>\n",
       "    <tr>\n",
       "      <th>NaN</th>\n",
       "      <td>NaN</td>\n",
       "      <td>NaN</td>\n",
       "      <td>NaN</td>\n",
       "    </tr>\n",
       "    <tr>\n",
       "      <th>1. el Raval</th>\n",
       "      <td>48.800</td>\n",
       "      <td>110.000</td>\n",
       "      <td>444</td>\n",
       "    </tr>\n",
       "    <tr>\n",
       "      <th>2. el Barri Gòtic</th>\n",
       "      <td>16.267</td>\n",
       "      <td>84.000</td>\n",
       "      <td>193</td>\n",
       "    </tr>\n",
       "  </tbody>\n",
       "</table>\n",
       "</div>"
      ],
      "text/plain": [
       "                    Poblacio  Superficie(ha)  Densitat(hab/ha)\n",
       "Barris                                                        \n",
       "NaN                      NaN             NaN               NaN\n",
       "NaN                1.611.822          10.234               157\n",
       "NaN                      NaN             NaN               NaN\n",
       "1. el Raval           48.800         110.000               444\n",
       "2. el Barri Gòtic     16.267          84.000               193"
      ]
     },
     "execution_count": 5,
     "metadata": {},
     "output_type": "execute_result"
    }
   ],
   "source": [
    "dens[[1,2,3]].head()"
   ]
  },
  {
   "cell_type": "markdown",
   "metadata": {},
   "source": [
    "Podemos ver el contenido de una columna llamándola por su nombre. En este caso, si queremos ver la columna Poblacio, podemos hacer:"
   ]
  },
  {
   "cell_type": "code",
   "execution_count": 7,
   "metadata": {
    "collapsed": false
   },
   "outputs": [
    {
     "data": {
      "text/plain": [
       "Barris\n",
       "NaN                        NaN\n",
       "NaN                  1.611.822\n",
       "NaN                        NaN\n",
       "1. el Raval             48.800\n",
       "2. el Barri Gòtic       16.267\n",
       "Name: Poblacio, dtype: object"
      ]
     },
     "execution_count": 7,
     "metadata": {},
     "output_type": "execute_result"
    }
   ],
   "source": [
    "dens[\"Poblacio\"].head()"
   ]
  },
  {
   "cell_type": "markdown",
   "metadata": {},
   "source": [
    "## Seleccionar filas y valores de un DataFrame usando el índice"
   ]
  },
  {
   "cell_type": "markdown",
   "metadata": {},
   "source": [
    "El operador [] se usa en `Series` y arrays para seleccionar filas o elementos, pero en `DataFrame` se usa para seleccionar columnas, así que para seleccionar filas se debe usar un método alternativo.\n",
    "\n",
    "La seleccion de filas se realiza en `DataFrame` usando los índices en las siguientes categorías de operaciones:\n",
    "\n",
    "* Cortar (slicing) usando el operador [ ]\n",
    "* Inspección por etiqueta o localización usando `.loc`, `.iloc` y `.ix`\n",
    "* Inspección escalar usando etiquetas o localización usando `.at` y `iat`\n",
    "\n",
    "Examinaremos estas técnicas a continuación."
   ]
  },
  {
   "cell_type": "markdown",
   "metadata": {},
   "source": [
    "### Slicing usando el operador [ ]"
   ]
  },
  {
   "cell_type": "markdown",
   "metadata": {},
   "source": [
    "Si queremos seleccionar las filas entre los índices 6 y 10 podemos hacer:"
   ]
  },
  {
   "cell_type": "code",
   "execution_count": 8,
   "metadata": {
    "collapsed": false
   },
   "outputs": [
    {
     "data": {
      "text/html": [
       "<div>\n",
       "<table border=\"1\" class=\"dataframe\">\n",
       "  <thead>\n",
       "    <tr style=\"text-align: right;\">\n",
       "      <th></th>\n",
       "      <th>Dte</th>\n",
       "      <th>Poblacio</th>\n",
       "      <th>Superficie(ha)</th>\n",
       "      <th>Densitat(hab/ha)</th>\n",
       "      <th>DensitatNeta(hab/ha)</th>\n",
       "    </tr>\n",
       "    <tr>\n",
       "      <th>Barris</th>\n",
       "      <th></th>\n",
       "      <th></th>\n",
       "      <th></th>\n",
       "      <th></th>\n",
       "      <th></th>\n",
       "    </tr>\n",
       "  </thead>\n",
       "  <tbody>\n",
       "    <tr>\n",
       "      <th>4. Sant Pere, Santa Caterina i la Ribera</th>\n",
       "      <td>1</td>\n",
       "      <td>22.769</td>\n",
       "      <td>111</td>\n",
       "      <td>204</td>\n",
       "      <td>705.000</td>\n",
       "    </tr>\n",
       "    <tr>\n",
       "      <th>5. el Fort Pienc</th>\n",
       "      <td>2</td>\n",
       "      <td>31.738</td>\n",
       "      <td>93</td>\n",
       "      <td>343</td>\n",
       "      <td>950.000</td>\n",
       "    </tr>\n",
       "    <tr>\n",
       "      <th>6. la Sagrada Família</th>\n",
       "      <td>2</td>\n",
       "      <td>51.806</td>\n",
       "      <td>103</td>\n",
       "      <td>502</td>\n",
       "      <td>1.006</td>\n",
       "    </tr>\n",
       "    <tr>\n",
       "      <th>7. la Dreta de l'Eixample</th>\n",
       "      <td>2</td>\n",
       "      <td>43.384</td>\n",
       "      <td>212</td>\n",
       "      <td>204</td>\n",
       "      <td>381.000</td>\n",
       "    </tr>\n",
       "    <tr>\n",
       "      <th>8. l'Antiga Esquerra de l'Eixample</th>\n",
       "      <td>2</td>\n",
       "      <td>41.773</td>\n",
       "      <td>123</td>\n",
       "      <td>338</td>\n",
       "      <td>624.000</td>\n",
       "    </tr>\n",
       "  </tbody>\n",
       "</table>\n",
       "</div>"
      ],
      "text/plain": [
       "                                         Dte Poblacio  Superficie(ha)  \\\n",
       "Barris                                                                  \n",
       "4. Sant Pere, Santa Caterina i la Ribera   1   22.769             111   \n",
       "5. el Fort Pienc                           2   31.738              93   \n",
       "6. la Sagrada Família                      2   51.806             103   \n",
       "7. la Dreta de l'Eixample                  2   43.384             212   \n",
       "8. l'Antiga Esquerra de l'Eixample         2   41.773             123   \n",
       "\n",
       "                                          Densitat(hab/ha)  \\\n",
       "Barris                                                       \n",
       "4. Sant Pere, Santa Caterina i la Ribera               204   \n",
       "5. el Fort Pienc                                       343   \n",
       "6. la Sagrada Família                                  502   \n",
       "7. la Dreta de l'Eixample                              204   \n",
       "8. l'Antiga Esquerra de l'Eixample                     338   \n",
       "\n",
       "                                          DensitatNeta(hab/ha)  \n",
       "Barris                                                          \n",
       "4. Sant Pere, Santa Caterina i la Ribera               705.000  \n",
       "5. el Fort Pienc                                       950.000  \n",
       "6. la Sagrada Família                                    1.006  \n",
       "7. la Dreta de l'Eixample                              381.000  \n",
       "8. l'Antiga Esquerra de l'Eixample                     624.000  "
      ]
     },
     "execution_count": 8,
     "metadata": {},
     "output_type": "execute_result"
    }
   ],
   "source": [
    "dens[6:11]"
   ]
  },
  {
   "cell_type": "markdown",
   "metadata": {},
   "source": [
    "Observar que el último elemento indicado en el slice no se toma."
   ]
  },
  {
   "cell_type": "markdown",
   "metadata": {},
   "source": [
    "### Seleccionar filas por índice : `.loc` y `.iloc`"
   ]
  },
  {
   "cell_type": "markdown",
   "metadata": {},
   "source": [
    "Si queremos seleccionar por índice podemos usar `.loc` en el caso de que los índices sean etiquetas o `.iloc` en el caso de que sean números como en nuestro caso. Por ejemplo, si queremos seleccionar las filas con índices 4, 6 y 8 podemos poner:"
   ]
  },
  {
   "cell_type": "code",
   "execution_count": 9,
   "metadata": {
    "collapsed": false
   },
   "outputs": [
    {
     "data": {
      "text/html": [
       "<div>\n",
       "<table border=\"1\" class=\"dataframe\">\n",
       "  <thead>\n",
       "    <tr style=\"text-align: right;\">\n",
       "      <th></th>\n",
       "      <th>Dte</th>\n",
       "      <th>Poblacio</th>\n",
       "      <th>Superficie(ha)</th>\n",
       "      <th>Densitat(hab/ha)</th>\n",
       "      <th>DensitatNeta(hab/ha)</th>\n",
       "    </tr>\n",
       "    <tr>\n",
       "      <th>Barris</th>\n",
       "      <th></th>\n",
       "      <th></th>\n",
       "      <th></th>\n",
       "      <th></th>\n",
       "      <th></th>\n",
       "    </tr>\n",
       "  </thead>\n",
       "  <tbody>\n",
       "    <tr>\n",
       "      <th>5. el Fort Pienc</th>\n",
       "      <td>2</td>\n",
       "      <td>31.738</td>\n",
       "      <td>93</td>\n",
       "      <td>343</td>\n",
       "      <td>950</td>\n",
       "    </tr>\n",
       "    <tr>\n",
       "      <th>7. la Dreta de l'Eixample</th>\n",
       "      <td>2</td>\n",
       "      <td>43.384</td>\n",
       "      <td>212</td>\n",
       "      <td>204</td>\n",
       "      <td>381</td>\n",
       "    </tr>\n",
       "  </tbody>\n",
       "</table>\n",
       "</div>"
      ],
      "text/plain": [
       "                          Dte Poblacio  Superficie(ha)  Densitat(hab/ha)  \\\n",
       "Barris                                                                     \n",
       "5. el Fort Pienc            2   31.738              93               343   \n",
       "7. la Dreta de l'Eixample   2   43.384             212               204   \n",
       "\n",
       "                           DensitatNeta(hab/ha)  \n",
       "Barris                                           \n",
       "5. el Fort Pienc                            950  \n",
       "7. la Dreta de l'Eixample                   381  "
      ]
     },
     "execution_count": 9,
     "metadata": {},
     "output_type": "execute_result"
    }
   ],
   "source": [
    "dens.loc[[\"5. el Fort Pienc\", \"7. la Dreta de l'Eixample\"]]"
   ]
  },
  {
   "cell_type": "markdown",
   "metadata": {},
   "source": [
    "En el caso de usar las ubicaciones con el número de fila:"
   ]
  },
  {
   "cell_type": "code",
   "execution_count": 10,
   "metadata": {
    "collapsed": false
   },
   "outputs": [
    {
     "data": {
      "text/html": [
       "<div>\n",
       "<table border=\"1\" class=\"dataframe\">\n",
       "  <thead>\n",
       "    <tr style=\"text-align: right;\">\n",
       "      <th></th>\n",
       "      <th>Dte</th>\n",
       "      <th>Poblacio</th>\n",
       "      <th>Superficie(ha)</th>\n",
       "      <th>Densitat(hab/ha)</th>\n",
       "      <th>DensitatNeta(hab/ha)</th>\n",
       "    </tr>\n",
       "    <tr>\n",
       "      <th>Barris</th>\n",
       "      <th></th>\n",
       "      <th></th>\n",
       "      <th></th>\n",
       "      <th></th>\n",
       "      <th></th>\n",
       "    </tr>\n",
       "  </thead>\n",
       "  <tbody>\n",
       "    <tr>\n",
       "      <th>NaN</th>\n",
       "      <td>NaN</td>\n",
       "      <td>NaN</td>\n",
       "      <td>NaN</td>\n",
       "      <td>NaN</td>\n",
       "      <td>NaN</td>\n",
       "    </tr>\n",
       "    <tr>\n",
       "      <th>NaN</th>\n",
       "      <td>BARCELONA</td>\n",
       "      <td>1.611.822</td>\n",
       "      <td>10.234</td>\n",
       "      <td>157</td>\n",
       "      <td>625</td>\n",
       "    </tr>\n",
       "    <tr>\n",
       "      <th>5. el Fort Pienc</th>\n",
       "      <td>2</td>\n",
       "      <td>31.738</td>\n",
       "      <td>93.000</td>\n",
       "      <td>343</td>\n",
       "      <td>950</td>\n",
       "    </tr>\n",
       "  </tbody>\n",
       "</table>\n",
       "</div>"
      ],
      "text/plain": [
       "                        Dte   Poblacio  Superficie(ha)  Densitat(hab/ha)  \\\n",
       "Barris                                                                     \n",
       "NaN                     NaN        NaN             NaN               NaN   \n",
       "NaN               BARCELONA  1.611.822          10.234               157   \n",
       "5. el Fort Pienc          2     31.738          93.000               343   \n",
       "\n",
       "                  DensitatNeta(hab/ha)  \n",
       "Barris                                  \n",
       "NaN                                NaN  \n",
       "NaN                                625  \n",
       "5. el Fort Pienc                   950  "
      ]
     },
     "execution_count": 10,
     "metadata": {},
     "output_type": "execute_result"
    }
   ],
   "source": [
    "dens.iloc[[0,1,7]]"
   ]
  },
  {
   "cell_type": "markdown",
   "metadata": {
    "collapsed": true
   },
   "source": [
    "Es posible encontrar la ubicación de la fila para una etiqueta dada, que luego puede ser usada para obtener la fila o filas:"
   ]
  },
  {
   "cell_type": "code",
   "execution_count": 15,
   "metadata": {
    "collapsed": false
   },
   "outputs": [
    {
     "data": {
      "text/plain": [
       "(8, 9)"
      ]
     },
     "execution_count": 15,
     "metadata": {},
     "output_type": "execute_result"
    }
   ],
   "source": [
    "i1 = dens.index.get_loc(u\"6. la Sagrada Família\")\n",
    "i2 = dens.index.get_loc(u\"7. la Dreta de l'Eixample\")\n",
    "i1,i2"
   ]
  },
  {
   "cell_type": "markdown",
   "metadata": {},
   "source": [
    "y obtenemos las filas:"
   ]
  },
  {
   "cell_type": "code",
   "execution_count": 16,
   "metadata": {
    "collapsed": false
   },
   "outputs": [
    {
     "data": {
      "text/html": [
       "<div>\n",
       "<table border=\"1\" class=\"dataframe\">\n",
       "  <thead>\n",
       "    <tr style=\"text-align: right;\">\n",
       "      <th></th>\n",
       "      <th>Dte</th>\n",
       "      <th>Poblacio</th>\n",
       "      <th>Superficie(ha)</th>\n",
       "      <th>Densitat(hab/ha)</th>\n",
       "      <th>DensitatNeta(hab/ha)</th>\n",
       "    </tr>\n",
       "    <tr>\n",
       "      <th>Barris</th>\n",
       "      <th></th>\n",
       "      <th></th>\n",
       "      <th></th>\n",
       "      <th></th>\n",
       "      <th></th>\n",
       "    </tr>\n",
       "  </thead>\n",
       "  <tbody>\n",
       "    <tr>\n",
       "      <th>6. la Sagrada Família</th>\n",
       "      <td>2</td>\n",
       "      <td>51.806</td>\n",
       "      <td>103</td>\n",
       "      <td>502</td>\n",
       "      <td>1.006</td>\n",
       "    </tr>\n",
       "    <tr>\n",
       "      <th>7. la Dreta de l'Eixample</th>\n",
       "      <td>2</td>\n",
       "      <td>43.384</td>\n",
       "      <td>212</td>\n",
       "      <td>204</td>\n",
       "      <td>381.000</td>\n",
       "    </tr>\n",
       "  </tbody>\n",
       "</table>\n",
       "</div>"
      ],
      "text/plain": [
       "                          Dte Poblacio  Superficie(ha)  Densitat(hab/ha)  \\\n",
       "Barris                                                                     \n",
       "6. la Sagrada Família       2   51.806             103               502   \n",
       "7. la Dreta de l'Eixample   2   43.384             212               204   \n",
       "\n",
       "                           DensitatNeta(hab/ha)  \n",
       "Barris                                           \n",
       "6. la Sagrada Família                     1.006  \n",
       "7. la Dreta de l'Eixample               381.000  "
      ]
     },
     "execution_count": 16,
     "metadata": {},
     "output_type": "execute_result"
    }
   ],
   "source": [
    "dens.iloc[[i1,i2]]"
   ]
  },
  {
   "cell_type": "markdown",
   "metadata": {},
   "source": [
    "### Seleccionar filas por índices de etiquetas y/o ubicación: .ix[ ]"
   ]
  },
  {
   "cell_type": "code",
   "execution_count": null,
   "metadata": {
    "collapsed": true
   },
   "outputs": [],
   "source": []
  }
 ],
 "metadata": {
  "kernelspec": {
   "display_name": "Python 2",
   "language": "python",
   "name": "python2"
  },
  "language_info": {
   "codemirror_mode": {
    "name": "ipython",
    "version": 2
   },
   "file_extension": ".py",
   "mimetype": "text/x-python",
   "name": "python",
   "nbconvert_exporter": "python",
   "pygments_lexer": "ipython2",
   "version": "2.7.6"
  }
 },
 "nbformat": 4,
 "nbformat_minor": 0
}
