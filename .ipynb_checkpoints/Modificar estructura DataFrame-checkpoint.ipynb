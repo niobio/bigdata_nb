{
 "cells": [
  {
   "cell_type": "markdown",
   "metadata": {},
   "source": [
    "# Modificar la  estructura de un DataFrame"
   ]
  },
  {
   "cell_type": "markdown",
   "metadata": {},
   "source": [
    "La estructura de un DataFrame se puede modificar de varias formas, las filas y las columnas se pueden eliminar o agregar y los datos contenidos en ellas se puede modificar para que tomen nuevos valores. veremos algunas formas de hacerlo a continuación.\n",
    "\n",
    "Para comenzar leeremos nuestro archivo de datos de ejemplo:"
   ]
  },
  {
   "cell_type": "code",
   "execution_count": 1,
   "metadata": {
    "collapsed": false
   },
   "outputs": [
    {
     "data": {
      "text/html": [
       "<div style=\"max-height:1000px;max-width:1500px;overflow:auto;\">\n",
       "<table border=\"1\" class=\"dataframe\">\n",
       "  <thead>\n",
       "    <tr style=\"text-align: right;\">\n",
       "      <th></th>\n",
       "      <th>Dte</th>\n",
       "      <th>Barris</th>\n",
       "      <th>Poblacio</th>\n",
       "      <th>Superficie(ha)</th>\n",
       "      <th>Densitat(hab/ha)</th>\n",
       "      <th>DensitatNeta(hab/ha)</th>\n",
       "    </tr>\n",
       "  </thead>\n",
       "  <tbody>\n",
       "    <tr>\n",
       "      <th>0</th>\n",
       "      <td>       NaN</td>\n",
       "      <td>               NaN</td>\n",
       "      <td>       NaN</td>\n",
       "      <td>     NaN</td>\n",
       "      <td> NaN</td>\n",
       "      <td> NaN</td>\n",
       "    </tr>\n",
       "    <tr>\n",
       "      <th>1</th>\n",
       "      <td> BARCELONA</td>\n",
       "      <td>               NaN</td>\n",
       "      <td> 1.611.822</td>\n",
       "      <td>  10.234</td>\n",
       "      <td> 157</td>\n",
       "      <td> 625</td>\n",
       "    </tr>\n",
       "    <tr>\n",
       "      <th>2</th>\n",
       "      <td>       NaN</td>\n",
       "      <td>               NaN</td>\n",
       "      <td>       NaN</td>\n",
       "      <td>     NaN</td>\n",
       "      <td> NaN</td>\n",
       "      <td> NaN</td>\n",
       "    </tr>\n",
       "    <tr>\n",
       "      <th>3</th>\n",
       "      <td>         1</td>\n",
       "      <td>       1. el Raval</td>\n",
       "      <td>    48.800</td>\n",
       "      <td> 110.000</td>\n",
       "      <td> 444</td>\n",
       "      <td> 983</td>\n",
       "    </tr>\n",
       "    <tr>\n",
       "      <th>4</th>\n",
       "      <td>         1</td>\n",
       "      <td> 2. el Barri Gòtic</td>\n",
       "      <td>    16.267</td>\n",
       "      <td>  84.000</td>\n",
       "      <td> 193</td>\n",
       "      <td> 477</td>\n",
       "    </tr>\n",
       "  </tbody>\n",
       "</table>\n",
       "<p>5 rows × 6 columns</p>\n",
       "</div>"
      ],
      "text/plain": [
       "         Dte             Barris   Poblacio  Superficie(ha)  Densitat(hab/ha)  \\\n",
       "0        NaN                NaN        NaN             NaN               NaN   \n",
       "1  BARCELONA                NaN  1.611.822          10.234               157   \n",
       "2        NaN                NaN        NaN             NaN               NaN   \n",
       "3          1        1. el Raval     48.800         110.000               444   \n",
       "4          1  2. el Barri Gòtic     16.267          84.000               193   \n",
       "\n",
       "   DensitatNeta(hab/ha)  \n",
       "0                   NaN  \n",
       "1                   625  \n",
       "2                   NaN  \n",
       "3                   983  \n",
       "4                   477  \n",
       "\n",
       "[5 rows x 6 columns]"
      ]
     },
     "execution_count": 1,
     "metadata": {},
     "output_type": "execute_result"
    }
   ],
   "source": [
    "import numpy as np\n",
    "import pandas as pd\n",
    "\n",
    "dens = pd.read_csv(\"data/superficiedens2013.csv\", sep=\";\", encoding=\"latin\")\n",
    "dens.head()"
   ]
  },
  {
   "cell_type": "markdown",
   "metadata": {},
   "source": [
    "## Renombrar columnas"
   ]
  },
  {
   "cell_type": "markdown",
   "metadata": {},
   "source": [
    "Para cambiar el nombre de una columna usamos el método `.rename()`."
   ]
  },
  {
   "cell_type": "code",
   "execution_count": 4,
   "metadata": {
    "collapsed": false
   },
   "outputs": [
    {
     "data": {
      "text/html": [
       "<div style=\"max-height:1000px;max-width:1500px;overflow:auto;\">\n",
       "<table border=\"1\" class=\"dataframe\">\n",
       "  <thead>\n",
       "    <tr style=\"text-align: right;\">\n",
       "      <th></th>\n",
       "      <th>Districte</th>\n",
       "      <th>Barris</th>\n",
       "      <th>Poblacio</th>\n",
       "      <th>Superficie(ha)</th>\n",
       "      <th>Densitat(hab/ha)</th>\n",
       "      <th>DensitatNeta(hab/ha)</th>\n",
       "    </tr>\n",
       "  </thead>\n",
       "  <tbody>\n",
       "    <tr>\n",
       "      <th>0</th>\n",
       "      <td>       NaN</td>\n",
       "      <td> NaN</td>\n",
       "      <td>       NaN</td>\n",
       "      <td>    NaN</td>\n",
       "      <td> NaN</td>\n",
       "      <td> NaN</td>\n",
       "    </tr>\n",
       "    <tr>\n",
       "      <th>1</th>\n",
       "      <td> BARCELONA</td>\n",
       "      <td> NaN</td>\n",
       "      <td> 1.611.822</td>\n",
       "      <td> 10.234</td>\n",
       "      <td> 157</td>\n",
       "      <td> 625</td>\n",
       "    </tr>\n",
       "  </tbody>\n",
       "</table>\n",
       "<p>2 rows × 6 columns</p>\n",
       "</div>"
      ],
      "text/plain": [
       "   Districte Barris   Poblacio  Superficie(ha)  Densitat(hab/ha)  \\\n",
       "0        NaN    NaN        NaN             NaN               NaN   \n",
       "1  BARCELONA    NaN  1.611.822          10.234               157   \n",
       "\n",
       "   DensitatNeta(hab/ha)  \n",
       "0                   NaN  \n",
       "1                   625  \n",
       "\n",
       "[2 rows x 6 columns]"
      ]
     },
     "execution_count": 4,
     "metadata": {},
     "output_type": "execute_result"
    }
   ],
   "source": [
    "# cambiamos el nombre de la primera columna de Dte a Districte\n",
    "dens1 = dens.rename(columns={'Dte': 'Districte'})\n",
    "# imprimimos las dos primeras filas\n",
    "dens1[:2]"
   ]
  },
  {
   "cell_type": "markdown",
   "metadata": {},
   "source": [
    "El DataFrame original no se modifica: "
   ]
  },
  {
   "cell_type": "code",
   "execution_count": 5,
   "metadata": {
    "collapsed": false
   },
   "outputs": [
    {
     "data": {
      "text/html": [
       "<div style=\"max-height:1000px;max-width:1500px;overflow:auto;\">\n",
       "<table border=\"1\" class=\"dataframe\">\n",
       "  <thead>\n",
       "    <tr style=\"text-align: right;\">\n",
       "      <th></th>\n",
       "      <th>Dte</th>\n",
       "      <th>Barris</th>\n",
       "      <th>Poblacio</th>\n",
       "      <th>Superficie(ha)</th>\n",
       "      <th>Densitat(hab/ha)</th>\n",
       "      <th>DensitatNeta(hab/ha)</th>\n",
       "    </tr>\n",
       "  </thead>\n",
       "  <tbody>\n",
       "    <tr>\n",
       "      <th>0</th>\n",
       "      <td>       NaN</td>\n",
       "      <td> NaN</td>\n",
       "      <td>       NaN</td>\n",
       "      <td>    NaN</td>\n",
       "      <td> NaN</td>\n",
       "      <td> NaN</td>\n",
       "    </tr>\n",
       "    <tr>\n",
       "      <th>1</th>\n",
       "      <td> BARCELONA</td>\n",
       "      <td> NaN</td>\n",
       "      <td> 1.611.822</td>\n",
       "      <td> 10.234</td>\n",
       "      <td> 157</td>\n",
       "      <td> 625</td>\n",
       "    </tr>\n",
       "  </tbody>\n",
       "</table>\n",
       "<p>2 rows × 6 columns</p>\n",
       "</div>"
      ],
      "text/plain": [
       "         Dte Barris   Poblacio  Superficie(ha)  Densitat(hab/ha)  \\\n",
       "0        NaN    NaN        NaN             NaN               NaN   \n",
       "1  BARCELONA    NaN  1.611.822          10.234               157   \n",
       "\n",
       "   DensitatNeta(hab/ha)  \n",
       "0                   NaN  \n",
       "1                   625  \n",
       "\n",
       "[2 rows x 6 columns]"
      ]
     },
     "execution_count": 5,
     "metadata": {},
     "output_type": "execute_result"
    }
   ],
   "source": [
    "dens[:2]"
   ]
  },
  {
   "cell_type": "markdown",
   "metadata": {},
   "source": [
    "Para cambiar el nombre de la columna sin hacer una copia debemos utilizar la propiedad `inplace` como se ve a continuación:"
   ]
  },
  {
   "cell_type": "code",
   "execution_count": 6,
   "metadata": {
    "collapsed": false
   },
   "outputs": [
    {
     "data": {
      "text/html": [
       "<div style=\"max-height:1000px;max-width:1500px;overflow:auto;\">\n",
       "<table border=\"1\" class=\"dataframe\">\n",
       "  <thead>\n",
       "    <tr style=\"text-align: right;\">\n",
       "      <th></th>\n",
       "      <th>Districte</th>\n",
       "      <th>Barris</th>\n",
       "      <th>Poblacio</th>\n",
       "      <th>Superficie(ha)</th>\n",
       "      <th>Densitat(hab/ha)</th>\n",
       "      <th>DensitatNeta(hab/ha)</th>\n",
       "    </tr>\n",
       "  </thead>\n",
       "  <tbody>\n",
       "    <tr>\n",
       "      <th>0</th>\n",
       "      <td>       NaN</td>\n",
       "      <td> NaN</td>\n",
       "      <td>       NaN</td>\n",
       "      <td>    NaN</td>\n",
       "      <td> NaN</td>\n",
       "      <td> NaN</td>\n",
       "    </tr>\n",
       "    <tr>\n",
       "      <th>1</th>\n",
       "      <td> BARCELONA</td>\n",
       "      <td> NaN</td>\n",
       "      <td> 1.611.822</td>\n",
       "      <td> 10.234</td>\n",
       "      <td> 157</td>\n",
       "      <td> 625</td>\n",
       "    </tr>\n",
       "  </tbody>\n",
       "</table>\n",
       "<p>2 rows × 6 columns</p>\n",
       "</div>"
      ],
      "text/plain": [
       "   Districte Barris   Poblacio  Superficie(ha)  Densitat(hab/ha)  \\\n",
       "0        NaN    NaN        NaN             NaN               NaN   \n",
       "1  BARCELONA    NaN  1.611.822          10.234               157   \n",
       "\n",
       "   DensitatNeta(hab/ha)  \n",
       "0                   NaN  \n",
       "1                   625  \n",
       "\n",
       "[2 rows x 6 columns]"
      ]
     },
     "execution_count": 6,
     "metadata": {},
     "output_type": "execute_result"
    }
   ],
   "source": [
    "dens.rename(columns={'Dte': 'Districte'}, inplace=True)\n",
    "dens[:2]"
   ]
  },
  {
   "cell_type": "markdown",
   "metadata": {},
   "source": [
    "## Agregar e insertar columnas"
   ]
  },
  {
   "cell_type": "code",
   "execution_count": null,
   "metadata": {
    "collapsed": true
   },
   "outputs": [],
   "source": []
  }
 ],
 "metadata": {
  "kernelspec": {
   "display_name": "Python 2",
   "language": "python",
   "name": "python2"
  },
  "language_info": {
   "codemirror_mode": {
    "name": "ipython",
    "version": 2
   },
   "file_extension": ".py",
   "mimetype": "text/x-python",
   "name": "python",
   "nbconvert_exporter": "python",
   "pygments_lexer": "ipython2",
   "version": "2.7.6"
  }
 },
 "nbformat": 4,
 "nbformat_minor": 0
}
