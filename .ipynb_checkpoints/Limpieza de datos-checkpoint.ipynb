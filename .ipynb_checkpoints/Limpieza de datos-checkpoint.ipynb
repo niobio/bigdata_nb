{
 "cells": [
  {
   "cell_type": "markdown",
   "metadata": {},
   "source": [
    "# Limpieza de datos"
   ]
  },
  {
   "cell_type": "markdown",
   "metadata": {},
   "source": [
    "Generalmente los datos de los que disponemos no vienen en un formato adecuado para trabajar con ellos y es necesario hacer cierta \"limpieza\". Entre estas tareas podemos mencionar:\n",
    "\n",
    "* Los nombres de las variables no son las que necesitamos.\n",
    "* Hay datos que faltan.\n",
    "* Los valores nos están en las unidades requeridas.\n",
    "* Las variables son qualitativas y se necesitan valores cuantitativos.\n",
    "* Hay \"ruido\" en los datos.\n",
    "* La información es de un tipo incorrecto\n",
    "* Los datos no están normalizados.\n",
    "* Los datos estan  duplicados.\n",
    "\n",
    "Para que los datos se puedan considerar buenos, limpios y listos para analizar, deberían cumplir los siguientes requisitos:\n",
    "\n",
    "* Cada variable en una columna\n",
    "* Cada observación de la variable en una fila diferente.\n",
    "* Debe haber una tabla para cada clase de variable.\n",
    "\n",
    "Veremos como trabajar con `pandas` para limpiar los datos de los que dissponemos.\n"
   ]
  },
  {
   "cell_type": "markdown",
   "metadata": {},
   "source": [
    "## Comenzando"
   ]
  },
  {
   "cell_type": "markdown",
   "metadata": {},
   "source": [
    "Las importaciones necesarias para ttrabajar son:"
   ]
  },
  {
   "cell_type": "code",
   "execution_count": 2,
   "metadata": {
    "collapsed": true
   },
   "outputs": [],
   "source": [
    "# importamos numpy, pandas y datetime\n",
    "import numpy as np\n",
    "import pandas as pd\n",
    "import datetime"
   ]
  },
  {
   "cell_type": "markdown",
   "metadata": {},
   "source": [
    "## Trabajando con datos faltantes"
   ]
  },
  {
   "cell_type": "markdown",
   "metadata": {},
   "source": [
    "Los datos faltantes en `pandas` se indican con el valor `NaN`. En `pandas` puede haber varios motivos por los que un valor puede ser `NaN`:\n",
    "\n",
    "* La unión de dos conjuntos de datos tiene valores que no encajan entre sí.\n",
    "* Recibimos datos incompletos de alguna fuente.\n",
    "* El valor `NaN` es desconocido en algún instante de tiempo pero se puede determinar posteriormente.\n",
    "* La forma de los datos ha cambiado y ahora quedan filas o columnas adicionales, que en el momento de la transformación no puderon determinarse.\n",
    "* etc.\n",
    "\n",
    "Para demostrar como podemos trabajar con datos faltantes usaremos un objeto del tipo DataFrame al que le falten algunos datos:"
   ]
  },
  {
   "cell_type": "code",
   "execution_count": 4,
   "metadata": {
    "collapsed": false
   },
   "outputs": [
    {
     "data": {
      "text/html": [
       "<div style=\"max-height:1000px;max-width:1500px;overflow:auto;\">\n",
       "<table border=\"1\" class=\"dataframe\">\n",
       "  <thead>\n",
       "    <tr style=\"text-align: right;\">\n",
       "      <th></th>\n",
       "      <th>c1</th>\n",
       "      <th>c2</th>\n",
       "      <th>c3</th>\n",
       "    </tr>\n",
       "  </thead>\n",
       "  <tbody>\n",
       "    <tr>\n",
       "      <th>a</th>\n",
       "      <td>  0</td>\n",
       "      <td>  1</td>\n",
       "      <td>  2</td>\n",
       "    </tr>\n",
       "    <tr>\n",
       "      <th>b</th>\n",
       "      <td>  3</td>\n",
       "      <td>  4</td>\n",
       "      <td>  5</td>\n",
       "    </tr>\n",
       "    <tr>\n",
       "      <th>c</th>\n",
       "      <td>  6</td>\n",
       "      <td>  7</td>\n",
       "      <td>  8</td>\n",
       "    </tr>\n",
       "    <tr>\n",
       "      <th>d</th>\n",
       "      <td>  9</td>\n",
       "      <td> 10</td>\n",
       "      <td> 11</td>\n",
       "    </tr>\n",
       "    <tr>\n",
       "      <th>e</th>\n",
       "      <td> 12</td>\n",
       "      <td> 13</td>\n",
       "      <td> 14</td>\n",
       "    </tr>\n",
       "  </tbody>\n",
       "</table>\n",
       "<p>5 rows × 3 columns</p>\n",
       "</div>"
      ],
      "text/plain": [
       "   c1  c2  c3\n",
       "a   0   1   2\n",
       "b   3   4   5\n",
       "c   6   7   8\n",
       "d   9  10  11\n",
       "e  12  13  14\n",
       "\n",
       "[5 rows x 3 columns]"
      ]
     },
     "execution_count": 4,
     "metadata": {},
     "output_type": "execute_result"
    }
   ],
   "source": [
    "# Creamos unn DataFrame con 5 filas y 3 columnas\n",
    "df  = pd.DataFrame(np.arange(0,15).reshape(5,3), index=['a','b','c','d','e'], columns=['c1','c2','c3'])\n",
    "df"
   ]
  },
  {
   "cell_type": "markdown",
   "metadata": {},
   "source": [
    "En esta tablano hay datos faltantes, agreguemos algunos:"
   ]
  },
  {
   "cell_type": "code",
   "execution_count": 5,
   "metadata": {
    "collapsed": false
   },
   "outputs": [
    {
     "data": {
      "text/html": [
       "<div style=\"max-height:1000px;max-width:1500px;overflow:auto;\">\n",
       "<table border=\"1\" class=\"dataframe\">\n",
       "  <thead>\n",
       "    <tr style=\"text-align: right;\">\n",
       "      <th></th>\n",
       "      <th>c1</th>\n",
       "      <th>c2</th>\n",
       "      <th>c3</th>\n",
       "      <th>c4</th>\n",
       "      <th>c5</th>\n",
       "    </tr>\n",
       "  </thead>\n",
       "  <tbody>\n",
       "    <tr>\n",
       "      <th>a</th>\n",
       "      <td>  0</td>\n",
       "      <td>  1</td>\n",
       "      <td>  2</td>\n",
       "      <td> 20</td>\n",
       "      <td>NaN</td>\n",
       "    </tr>\n",
       "    <tr>\n",
       "      <th>b</th>\n",
       "      <td>  3</td>\n",
       "      <td>  4</td>\n",
       "      <td>  5</td>\n",
       "      <td>NaN</td>\n",
       "      <td>NaN</td>\n",
       "    </tr>\n",
       "    <tr>\n",
       "      <th>c</th>\n",
       "      <td>  6</td>\n",
       "      <td>  7</td>\n",
       "      <td>  8</td>\n",
       "      <td>NaN</td>\n",
       "      <td>NaN</td>\n",
       "    </tr>\n",
       "    <tr>\n",
       "      <th>d</th>\n",
       "      <td>  9</td>\n",
       "      <td> 10</td>\n",
       "      <td> 11</td>\n",
       "      <td>NaN</td>\n",
       "      <td>NaN</td>\n",
       "    </tr>\n",
       "    <tr>\n",
       "      <th>e</th>\n",
       "      <td> 12</td>\n",
       "      <td> 13</td>\n",
       "      <td> 14</td>\n",
       "      <td>NaN</td>\n",
       "      <td>NaN</td>\n",
       "    </tr>\n",
       "    <tr>\n",
       "      <th>f</th>\n",
       "      <td> 15</td>\n",
       "      <td> 16</td>\n",
       "      <td> 17</td>\n",
       "      <td> 18</td>\n",
       "      <td>NaN</td>\n",
       "    </tr>\n",
       "    <tr>\n",
       "      <th>g</th>\n",
       "      <td>NaN</td>\n",
       "      <td>NaN</td>\n",
       "      <td>NaN</td>\n",
       "      <td>NaN</td>\n",
       "      <td>NaN</td>\n",
       "    </tr>\n",
       "  </tbody>\n",
       "</table>\n",
       "<p>7 rows × 5 columns</p>\n",
       "</div>"
      ],
      "text/plain": [
       "   c1  c2  c3  c4  c5\n",
       "a   0   1   2  20 NaN\n",
       "b   3   4   5 NaN NaN\n",
       "c   6   7   8 NaN NaN\n",
       "d   9  10  11 NaN NaN\n",
       "e  12  13  14 NaN NaN\n",
       "f  15  16  17  18 NaN\n",
       "g NaN NaN NaN NaN NaN\n",
       "\n",
       "[7 rows x 5 columns]"
      ]
     },
     "execution_count": 5,
     "metadata": {},
     "output_type": "execute_result"
    }
   ],
   "source": [
    "# agregamos algunas columnas y filas al DataFrame\n",
    "# columna c4 con valores NaN\n",
    "df['c4'] = np.nan\n",
    "# fila 'f' con 15 a 18\n",
    "df.loc['f'] = np.arange(15,19)\n",
    "# fila 'g' con todos NaN\n",
    "df.loc['g'] = np.nan\n",
    "# columna 'c5' con NaN:\n",
    "df['c5'] = np.nan\n",
    "# cambiamos de la columna 'c4, fila 'a'\n",
    "df['c4']['a'] = 20\n",
    "df"
   ]
  },
  {
   "cell_type": "markdown",
   "metadata": {
    "collapsed": true
   },
   "source": [
    "Las características de este DataFrame "
   ]
  }
 ],
 "metadata": {
  "kernelspec": {
   "display_name": "Python 2",
   "language": "python",
   "name": "python2"
  },
  "language_info": {
   "codemirror_mode": {
    "name": "ipython",
    "version": 2
   },
   "file_extension": ".py",
   "mimetype": "text/x-python",
   "name": "python",
   "nbconvert_exporter": "python",
   "pygments_lexer": "ipython2",
   "version": "2.7.6"
  }
 },
 "nbformat": 4,
 "nbformat_minor": 0
}
